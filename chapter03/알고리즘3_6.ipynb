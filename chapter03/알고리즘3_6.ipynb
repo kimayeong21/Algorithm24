{
 "cells": [
  {
   "cell_type": "markdown",
   "metadata": {},
   "source": [
    "#### 알고리즘 3.6 깊이 우선 탐색\n",
    "###### 문제정의 : 그래프 순회에 완전 탐색의 개념을 적용하면 모든 정점을 체계적으로 방문할 수 있는 두 가지 중요한 방법을 얻을 수 있다. 이것은 깊이 우선 탐색과 너비 우선 탐색이라고 한다.\n",
    "###### 알고리즘 설명 : 깊이 우선 탐색은 한 정점에서 시작하여 최대한 깊이 들어가서 탐색하는 방식이며, 너비 우선 탐색은 한 레벨씩 탐색하는 방식입니다.\n",
    "###### 손으로 푼 예제 : 깊이 우선 탐색을 하는 것으로 { 'A' : {'B', 'C'}, 'B' : {'A', 'D', 'E'}, 'C': {'A', 'F', 'G'}, 'D': {'B'},'E': {'B'}, 'F': {'C'},'G': {'C'}, }에서 하나씩 방문한후 더 이상 방문이 안된다면 종료하는 프로그램이다. \n",
    "###### 알고리즘 개요(입력 변수, 출력, 알고리즘 개요) : \n",
    "###### 입력 변수 : { 'A' : {'B', 'C'}, 'B' : {'A', 'D', 'E'}, 'C': {'A', 'F', 'G'}, 'D': {'B'},'E': {'B'}, 'F': {'C'},'G': {'C'}, }에서 A에서 방문하여 인접 정점 B와 C중에서 임의로 선택하여 탐색한후 여기서B를 선택해 탐색한 후 C를 먼저 탐색해도 상관없다 이경우 방문하는 순서는 달라지지만 모든 정점을 한 번씩 방문하는 것은 마찬가지이다 \n",
    "###### B의 인접 정점A와 D중에서 A는 이미 탐색한정점이므로 다시방문하지 않아야 한다. 남은 정점 D로 탐색을 진행한다. \n",
    "###### D에서 방문하지 않은 인접 정점 C와 F 중에서 C로 탐색을 진행, C에서는 E로 E에서는 G로 G에서는 H로 탐색을 진행한다. H에서는방문하지 않은 인접 정점이 없으므로 미로 탐색의 막다른 길과 마찬가지이다. \n",
    "###### 따라서 이전 이전 정점 G로 되돌아가서 방문하지 않은  인접 정점으르 살핌, G도 이런 정점이 없다면 C나 D로 되돌아가야 한다.\n",
    "###### D에서 가지 않은 정점 F가 있으므로 탐색을 진행\n",
    "###### F에서 더 이상 방문하지  않은 인접 정점이 없으므로 D로 되돌아오고, 마찬가지로 B와 A로되돌아온다. 시작 정점인A에서도 더 이상 방문하지  않은 정점이 없으므로 알고리즘 종료된다. \n",
    "\n",
    "###### 출력 : DFS:  ABDECGF\n",
    "###### 알고리즘 개요 : 깊이 우선 탐색"
   ]
  },
  {
   "cell_type": "code",
   "execution_count": 1,
   "metadata": {},
   "outputs": [
    {
     "name": "stdout",
     "output_type": "stream",
     "text": [
      "DFS:  ACFGHDEB\n"
     ]
    }
   ],
   "source": [
    "# 알고리즘 3.6 깊이 우선 탐색\n",
    "\n",
    "def dfs(graph,start,visited):         #깊이 우선 탐색 알고리즘\n",
    "    if start not in visited:          #START가 방문하지 않은정점이면\n",
    "        visited.add(start)            #START를 방문한노드 집합에 추가\n",
    "        print(start,end=\"\")            # START를 방문했다고 출력함\n",
    "        nbr = graph[start] - visited    #nbr: 차집합 연산  이용\n",
    "        for v in nbr:            # v E {인접정점} - {방문정점}\n",
    "            dfs(graph, v, visited)   #v에 대해 dfs를 순화적으로 호출\n",
    "\n",
    "\n",
    "mygraph = { 'A' : {'B', 'C'}, \n",
    "            'B' : {'A', 'D', 'E'},\n",
    "            'C': {'A', 'F', 'G'},\n",
    "            'D': {'C', 'D'},\n",
    "            'E': {'G'}, \n",
    "            'F': {'A', 'B', 'C','D','E','F','G','H'},\n",
    "            'G': {'H'},\n",
    "            'H': {'A', 'B', 'C','D','E','F','G','H'},\n",
    "         }\n",
    "print('DFS: ', end=\" \")\n",
    "dfs(mygraph,\"A\",set())     # visited에 공집합 전달\n",
    "print()"
   ]
  },
  {
   "cell_type": "markdown",
   "metadata": {},
   "source": [
    "#### 알고리즘 3.6 너비 우선 탐색\n",
    "###### 문제정의 : 그래프 순회에 완전 탐색의 개념을 적용하면 모든 정점을 체계적으로 방문할 수 있는 두 가지 중요한 방법을 얻을 수 있다. 이것은 깊이 우선 탐색과 너비 우선 탐색이라고 한다.\n",
    "###### 알고리즘 설명 : 너비 우선 탐색(BFS)은 시작 정점에서부터 모든 정점을 체계적으로 방문하는 그래프 탐색 알고리즘입니다. 이 알고리즘은 시작 정점을 큐에 넣고 인접한 정점을 모두 방문한 후에 차례로 탐색합니다. 방문한 정점은 큐에서 제거되고, 그 정점과 연결된 이웃 정점들은 모두 큐에 추가됩니다. 이 과정을 큐가 빌 때까지 반복하여 그래프의 모든 정점을 탐색합니다.\n",
    "###### 손으로 푼 예제 :너비 우선 탐색을 하는 것으로 { 'A' : {'B', 'C'}, 'B' : {'A', 'D', 'E'}, 'C': {'A', 'F', 'G'}, 'D': {'B'},'E': {'B'}, 'F': {'C'},'G': {'C'}, }에서 하나씩 방문한후 더 이상 방문이 안된다면 종료하는 프로그램이다. \n",
    "###### 알고리즘 개요(입력 변수, 출력, 알고리즘 개요) : \n",
    "###### 입력 변수 : 1.A를 시작 정점이라 하자, 처음에는 ZBDP [A]만 들어 있음 :  2. 큐에서 A를  꺼내고 아직 방문하지 하지 않은 인접 정점 B와 C를 순서대로 방문 이들을 큐의 넣음 이제 큐[B,C]가 순서대로 들어가있음 visit={A,B,C} : 3. 닫시 큐에서 B를 꺼내고 방문하지 않은 이숫 정점 B를 방문 큐의 넣는다.visit={A,B,C,D} : 4. 큐애서 C를 꺼내고 이웃 정점 E를 방문 이를 큐의 넣음 visit={A,B,C,D,E}: 5. 큐에서 E를 꺼내고 F를 방문 큐의 넣음 visit={A,B,C,D,E,F} : 6. 큐에서 E를 꺼내고 바아문하지 않은 이웃 정점 G와 H를 방문하고 큐의 삽입 : 7. 더이상 방문하지 않은 이웃은 없다 그러므로 큐는 다시 공백 상태가 되고 탐색은 종료된다\n",
    "###### 출력 : BFS:  ABCDEFGH\n",
    "###### 알고리즘 개요 : 너비 우선 탐색"
   ]
  },
  {
   "cell_type": "code",
   "execution_count": 2,
   "metadata": {},
   "outputs": [
    {
     "name": "stdout",
     "output_type": "stream",
     "text": [
      "BFS:  ACFGHDEB\n"
     ]
    }
   ],
   "source": [
    "# 알고리즘 3.6 너비 우선 탐색\n",
    "\n",
    "import queue                  \n",
    "def bfs(graph,start):\n",
    "    visited = {start}               #맨 처음에는 start만 방문한 정점임\n",
    "    que = queue.Queue()           # 파이썬 큐 모듈의 큐 객체 생성\n",
    "    que.put(start)\n",
    "    while not  que.empty():      #큐에 항목이 있을 때 까지\n",
    "        v = que.get()                #큐에서 하나의 정점 v를 빼냄\n",
    "        print(v,end='')                  #v는 방문했음을 출력\n",
    "        nbr = graph[v] - visited         #nbr = {v의 인접정점} - {방문정점}\n",
    "        for u in nbr:                   # 갈 수 있는 모든 인접 정점에 대해\n",
    "            visited.add(u)              # 이제 u는 방문했음\n",
    "            que.put(u)                  # u를 큐에 삽입\n",
    "\n",
    "mygraph = { 'A' : {'B', 'C'}, \n",
    "            'B' : {'A', 'D', 'E'},\n",
    "            'C': {'A', 'F', 'G'},\n",
    "            'D': {'C', 'D'},\n",
    "            'E': {'G'}, \n",
    "            'F': {'A', 'B', 'C','D','E','F','G','H'},\n",
    "            'G': {'H'},\n",
    "            'H': {'A', 'B', 'C','D','E','F','G','H'},\n",
    "         }\n",
    "print('BFS: ', end=\" \")\n",
    "dfs(mygraph,\"A\",set())     # visited에 공집합 전달\n",
    "print()\n"
   ]
  },
  {
   "cell_type": "code",
   "execution_count": null,
   "metadata": {},
   "outputs": [],
   "source": []
  }
 ],
 "metadata": {
  "kernelspec": {
   "display_name": "base",
   "language": "python",
   "name": "python3"
  },
  "language_info": {
   "codemirror_mode": {
    "name": "ipython",
    "version": 3
   },
   "file_extension": ".py",
   "mimetype": "text/x-python",
   "name": "python",
   "nbconvert_exporter": "python",
   "pygments_lexer": "ipython3",
   "version": "3.11.7"
  }
 },
 "nbformat": 4,
 "nbformat_minor": 2
}
