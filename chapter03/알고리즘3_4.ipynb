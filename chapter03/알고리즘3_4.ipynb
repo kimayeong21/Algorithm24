{
 "cells": [
  {
   "cell_type": "markdown",
   "metadata": {},
   "source": [
    "#### 알고리즘 3.4 최근접 쌍의 거리 문제\n",
    "###### 문제정의 : 2차원 평면상에 n개의 점이 있다. 가장 인접한 쌍의 거리를 구하라.\n",
    "###### 알고리즘 설명 : 최근접 점 쌍 문제는 2차원 평면상에 주어진 여러 점들 중에서 가장 가까운 두 점 사이의 거리를 구하는 문제이다. 이를 해결하기 위해 주로 분할 정복 알고리즘이 사용되며, 이 알고리즘은 점들을 x좌표를 기준으로 정렬하고, 재귀적으로 점들을 분할하여 가장 가까운 두 점을 찾는다. 이렇게 구한 거리 중 최솟값을 최종적인 최단 거리로 반환한다.\n",
    "###### 손으로 푼 예제 :[(2,3), (12,13), (40,50), (5,1), (12,10), (3,4)]리스트에서 거리 계산한 후 최근접 거리를 측정한다.\n",
    "###### 알고리즘 개요(입력 변수, 출력, 알고리즘 개요) : \n",
    "###### 입력 변수 : [(2,3), (12,13), (40,50), (5,1), (12,10), (3,4)]리스트에서 최근접 거리를 계산하는 식인 (p1[0]-p2[0])**2+(p1[1]-p2[1])**2으로 계산하면 된다.\n",
    "###### 출력 : 최근접 거리:  1.4142135623730951\n",
    "###### 알고리즘 개요 : 최근접 쌍의 거리"
   ]
  },
  {
   "cell_type": "code",
   "execution_count": 1,
   "metadata": {},
   "outputs": [
    {
     "name": "stdout",
     "output_type": "stream",
     "text": [
      "최근접 거리:  1.4142135623730951\n"
     ]
    }
   ],
   "source": [
    "#알고리즘 3.4 최근접 쌍의 거리\n",
    "import math             #math 모듈 포함, 제곱근(sqrt) 함수 사용을 위해\n",
    "def distance(p1,p2):     #Euclidean 거리 계산 함수\n",
    "    return math.sqrt((p1[0]-p2[0])**2+(p1[1]-p2[1])**2)\n",
    "\n",
    "def closest_pair(p):          #점의 전체 개수(점의 리스트 p가 입려된다. [xn,yn]의 형태이다.)\n",
    "    n = len(p)              #최근접 거리 초기화(무한대)\n",
    "    mindist = float(\"inf\")       #일단 최근접 거리를 무한대하고 한다\n",
    "    for i in range(n-1):          # 7-12행 i<j를 만족하는 모든 쌍(pi,pj)에 대한 거리를 계산하고 mindist와 비교하여 이보다 작으면 mindisit를 갱신한다.\n",
    "        for j in range(i+1,n):         \n",
    "            dist = distance(p[i],p[j])\n",
    "            if dist <mindist:\n",
    "                mindist = dist\n",
    "        return mindist           #최종적으로 mindist에 최근접 쌍의 거리가 저장되어 있다.\n",
    "    \n",
    "\n",
    "p = [(2,3), (12,13), (40,50), (5,1), (12,10), (3,4)]\n",
    "print(\"최근접 거리: \", closest_pair(p))"
   ]
  },
  {
   "cell_type": "code",
   "execution_count": null,
   "metadata": {},
   "outputs": [],
   "source": []
  }
 ],
 "metadata": {
  "kernelspec": {
   "display_name": "base",
   "language": "python",
   "name": "python3"
  },
  "language_info": {
   "codemirror_mode": {
    "name": "ipython",
    "version": 3
   },
   "file_extension": ".py",
   "mimetype": "text/x-python",
   "name": "python",
   "nbconvert_exporter": "python",
   "pygments_lexer": "ipython3",
   "version": "3.11.7"
  }
 },
 "nbformat": 4,
 "nbformat_minor": 2
}
