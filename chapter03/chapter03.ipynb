{
 "cells": [
  {
   "cell_type": "markdown",
   "metadata": {},
   "source": [
    "##### 알고리즘 3.1 선택정렬\n",
    "###### 문제정의 : 리스트에 n개의 항목들이 들어 있다. 이들을 키(key)의 순서에 따라 오름차순으로 재배치하라.\n",
    "###### 알고리즘 설명 : 정렬이 안 된 리스트에서 최솟값이 선택되면 이 값을 새로운 리스트에 저장하는 것이 아니라 첫 번째 요소와 교환한다.\n",
    "###### 손으로 푼 예제 : [5, 3, 8, 4, 9, 1, 6, 2, 7]인 리스트의 정렬이 되지 않은 상태의 리스트를 저장한다. 그리고  selection_sort(data)를 써줌으로 인해[1, 2, 3, 4, 5, 6, 7, 8, 9]으로 정렬이 되는 프로그램이다.\n",
    "\n",
    "\n",
    "###### 알고리즘 개요(입력 변수, 출력, 알고리즘 개요) : \n",
    "###### 입력 변수 : [5, 3, 8, 4, 9, 1, 6, 2, 7] -> 정렬이 되지 않은 상태\n",
    "###### 출력 : [1, 2, 3, 4, 5, 6, 7, 8, 9] -> 정렬된 상태\n",
    "###### 알고리즘 개요 : 선택 정렬"
   ]
  },
  {
   "cell_type": "code",
   "execution_count": 1,
   "metadata": {},
   "outputs": [
    {
     "name": "stdout",
     "output_type": "stream",
     "text": [
      "Original :  [5, 3, 8, 4, 9, 1, 6, 2, 7]\n",
      "Step  1 = [1, 3, 8, 4, 9, 5, 6, 2, 7]\n",
      "Step  2 = [1, 2, 8, 4, 9, 5, 6, 3, 7]\n",
      "Step  3 = [1, 2, 3, 4, 9, 5, 6, 8, 7]\n",
      "Step  4 = [1, 2, 3, 4, 9, 5, 6, 8, 7]\n",
      "Step  5 = [1, 2, 3, 4, 5, 9, 6, 8, 7]\n",
      "Step  6 = [1, 2, 3, 4, 5, 6, 9, 8, 7]\n",
      "Step  7 = [1, 2, 3, 4, 5, 6, 7, 8, 9]\n",
      "Step  8 = [1, 2, 3, 4, 5, 6, 7, 8, 9]\n",
      "Selection: [1, 2, 3, 4, 5, 6, 7, 8, 9]\n"
     ]
    }
   ],
   "source": [
    "#알고리즘 3.1 선택정렬\n",
    "def selection_sort(A):             #선택정렬 (1행 선택 정렬 알고리즘. 정렬되지 않은 리스트 A가 입력된다)\n",
    "    n = len(A)                     #n: 리스트 A의 길이(리스트의 길이[문제의 크기])\n",
    "    for i in range(n-1):            #0,1,2,....n-2[외부 루프](0~n-2의 모든 i에 대해.)\n",
    "        least = i                   #(4-7행 i 이후의 모든 항목에서 가장 작은 항목의 인덱스 least를 계산)\n",
    "        for j in range(i+1,n):               #i+1.....n-1[내부 루프]\n",
    "            if(A[j]<A[least]):                #비교연산\n",
    "                least = j                     #최소항목 갱신\n",
    "        A[i], A[least] = A[least],A[i]         #배열 항목 교환(i번째 항목과 least항목을 서로 교환함)\n",
    "        printStep(A, i+1)              # 중간 과정 출력용 문장(리스트의 중간 과정을 출력하기 위한 문장을 추가)\n",
    "\n",
    "def printStep(arr, val):\n",
    "    print(\"Step %2d = \"%val,end='')\n",
    "    print(arr)\n",
    "    \n",
    "data = [5,3,8,4,9,1,6,2,7]\n",
    "print(\"Original : \",data)\n",
    "selection_sort(data)\n",
    "print(\"Selection:\",data)"
   ]
  },
  {
   "cell_type": "code",
   "execution_count": null,
   "metadata": {},
   "outputs": [],
   "source": []
  }
 ],
 "metadata": {
  "kernelspec": {
   "display_name": "base",
   "language": "python",
   "name": "python3"
  },
  "language_info": {
   "codemirror_mode": {
    "name": "ipython",
    "version": 3
   },
   "file_extension": ".py",
   "mimetype": "text/x-python",
   "name": "python",
   "nbconvert_exporter": "python",
   "pygments_lexer": "ipython3",
   "version": "3.11.7"
  }
 },
 "nbformat": 4,
 "nbformat_minor": 2
}
