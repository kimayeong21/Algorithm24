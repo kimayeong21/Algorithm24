{
 "cells": [
  {
   "cell_type": "markdown",
   "metadata": {},
   "source": [
    "#### 알고리즘 3.2 순차 탐색(다사 보기)\n",
    "###### 문제 정의: 리스트에 n개의 항목이 들어 있다. 이 리스트에서 \"탐색기\"를 가진 항목을 찾아라. 만약 찾는 항목이 있으면 그 항목의 인덱스를 반환하고, 없으면 -1을 반환하라. 단, 리스트의 항목들은 정렬되어 있지 않다.\n",
    "###### 알고리즘 설명: 입력 리스트의 첫 항목부터 순서대로 하나씩 탐색키와 비교한다.\n",
    "###### 손으로 푼 예제: [17, 92, 18, 33, 58, 7, 33, 42]리스트의 만약 18을 찾을 때 리스트안의 18이 있다면 리스트의 2에 있으면 인덱스를 반환 아니면 -1을 출력한다.\n",
    "###### 입력 변수 : [17, 92, 18, 33, 58, 7, 33, 42] 리스트의 번호와 같을 때까지 반복\n",
    "\n",
    "###### 출력 : 2(만약 18을 찾는다면 반복하여 인덱스 2가 출력됨)\n",
    "###### 알고리즘 개요 : 순차 정렬"
   ]
  },
  {
   "cell_type": "code",
   "execution_count": 1,
   "metadata": {},
   "outputs": [
    {
     "name": "stdout",
     "output_type": "stream",
     "text": [
      "2\n"
     ]
    }
   ],
   "source": [
    "#알고리즘 3.2 순차 탐색(다사 보기)\n",
    "def seqyebtial_search(A,key): #A는 입력 리스트, key는 탐색 키\n",
    "    for i in range(len(A)):   #i: 0,1 ....len(A)-1\n",
    "        if A[i] == key:                 #탐색 성공하면(비교 연산, 기본 연산임)\n",
    "            return i                    #인덱스 반환\n",
    "    return -1                             #팀색이 실패하면 -1반환\n",
    "    \n",
    "v = [17, 92, 18, 33, 58, 7, 33, 42]\n",
    "print(seqyebtial_search(v, 18)) "
   ]
  },
  {
   "cell_type": "code",
   "execution_count": null,
   "metadata": {},
   "outputs": [],
   "source": []
  }
 ],
 "metadata": {
  "kernelspec": {
   "display_name": "base",
   "language": "python",
   "name": "python3"
  },
  "language_info": {
   "codemirror_mode": {
    "name": "ipython",
    "version": 3
   },
   "file_extension": ".py",
   "mimetype": "text/x-python",
   "name": "python",
   "nbconvert_exporter": "python",
   "pygments_lexer": "ipython3",
   "version": "3.11.7"
  }
 },
 "nbformat": 4,
 "nbformat_minor": 2
}
