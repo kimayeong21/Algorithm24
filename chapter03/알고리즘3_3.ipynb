{
 "cells": [
  {
   "cell_type": "markdown",
   "metadata": {},
   "source": [
    "#### 알고리즘 3.3 문자열 매칭(억지 기법)\n",
    "###### 문제정의 : 텍스트의 첫 번째 문자 우치에 패턴을 놓고 비교한다. 이 관정을 패턴을 오른쪽으로 한 칸씩 옮기면서 성공한 매칭이 나타날때까지 반복한다.\n",
    "###### 알고리즘 설명 : 텍스트의 첫 번째 문자 위치부터 패턴과 일치하는지를 검사하고 일치하지 않으면 패턴을 오른쪽으로 한 칸싹 옮겨가면서 비교한다. 이를 텍스트의 끝까지 반복하여 성공적인 매칭을 찾는다. 이 알고리즘은 간단하지만 효율성이 낮아 큰 규모의 문자열에는 적합하지 않는다.\n",
    "##### 손으로 푼 예제 :  \n",
    "###### 이 코드는 문자열 T 내에서 패턴 P가 나타나는지를 찾는 알고리즘을 구현한 것입니다.\n",
    "\n",
    "###### 우선, 문자열 T와 P의 길이를 각각 n과 m에 저장합니다. 그런 다음, 문자열 T에서 패턴 P가 등장할 수 있는 모든 위치를 탐색하기 위해 i를 0부터 n-m까지 반복합니다.\n",
    "\n",
    "###### 각 위치 i에서부터 문자열 P와 T의 해당 부분 문자열을 비교하며 일치 여부를 확인합니다. 이를 위해 j를 사용하여 패턴 P의 문자를 순회하면서, P와 T의 문자가 일치하는지를 확인합니다.\n",
    "\n",
    "###### 만약 패턴 P와 T의 부분 문자열이 일치하지 않으면 j의 값은 증가하지 않고, 다음 위치로 이동하여 다시 비교합니다. 만약 패턴 P와 T의 부분 문자열이 모두 일치하면, 해당 위치 i를 반환합니다.\n",
    "\n",
    "###### 패턴 P가 문자열 T 내에서 발견되지 않는다면, -1을 반환합니다.\n",
    "\n",
    "###### 코드를 실행하면 \"LO in HELLO WORLD --> 3\"와 \"HI in HELLO WORLD --> -1\"과 같이 출력됩니다. \"LO\"는 \"HELLO WORLD\"에서 인덱스 3부터 시작하여 발견되었고, \"HI\"는 발견되지 않았습니다.\n",
    "\n",
    "###### 알고리즘 개요(입력 변수, 출력, 알고리즘 개요) : \n",
    "###### 입력 변수 : 'HELLO WORLD'에서 문자가 일치할 경우 매치성공, 아니면 매치실패\n",
    "###### 출력 : LO in HELLO WORLD --> 3(매칭성공) , HI in HELLO WORLD --> -1(매칭실패)\n",
    "###### 알고리즘 개요 : 억지 기법"
   ]
  },
  {
   "cell_type": "code",
   "execution_count": 1,
   "metadata": {},
   "outputs": [
    {
     "name": "stdout",
     "output_type": "stream",
     "text": [
      "LO in HELLO WORLD --> 3\n",
      "HI in HELLO WORLD --> -1\n"
     ]
    }
   ],
   "source": [
    "#알고리즘 3.3 문자열 매칭(억지 기법)\n",
    "def string_matching(T, P):            #T는 입력, P는 패턴 (억지 기법 문자열 매칭 알고리즘, 읿력 문자열 T와 패턴 P가 입력된다)\n",
    "    n = len(T)                        #n: 입력 문자열의 길이        \n",
    "    m = len(P)                        #m: 패턴 문자열의 길이\n",
    "    for i in range(n-m+1):                 #i,O,1......n-m(모든 가능한 패턴의 위치(범위에 유의하라)에 대해)\n",
    "        j = 0\n",
    "        while j<m and P[j]==T[i+j]:              #패턴 문자열을 모두 비교(6-9행: 패턴의 문자들을 비교해 모두 일치(i==m)하면 위치를 반환)\n",
    "            j = j+1                         \n",
    "        if j==m:                           #모든 문자가 일치하면, 매치성공\n",
    "            return i                     # 현재 위치 반환\n",
    "    return -1                            # 문자열 매칭 실패(모두 일치하는 경우가 없으면 매칭 실패이고, -1을 반환한다.)\n",
    "\n",
    "text='HELLO WORLD'\n",
    "pattern = 'LO'\n",
    "print(pattern, 'in', text,'-->',string_matching(text, pattern))\n",
    "pattern = 'HI'\n",
    "print(pattern, 'in', text,'-->',string_matching(text, pattern))"
   ]
  },
  {
   "cell_type": "code",
   "execution_count": null,
   "metadata": {},
   "outputs": [],
   "source": []
  }
 ],
 "metadata": {
  "kernelspec": {
   "display_name": "base",
   "language": "python",
   "name": "python3"
  },
  "language_info": {
   "codemirror_mode": {
    "name": "ipython",
    "version": 3
   },
   "file_extension": ".py",
   "mimetype": "text/x-python",
   "name": "python",
   "nbconvert_exporter": "python",
   "pygments_lexer": "ipython3",
   "version": "3.11.7"
  }
 },
 "nbformat": 4,
 "nbformat_minor": 2
}
