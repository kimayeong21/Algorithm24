{
 "cells": [
  {
   "cell_type": "code",
   "execution_count": 1,
   "id": "311f9a45-0706-44e0-b330-a05e35137f70",
   "metadata": {},
   "outputs": [
    {
     "data": {
      "text/plain": [
       "4"
      ]
     },
     "execution_count": 1,
     "metadata": {},
     "output_type": "execute_result"
    }
   ],
   "source": [
    "x=4\n",
    "x"
   ]
  },
  {
   "cell_type": "code",
   "execution_count": null,
   "id": "a5275309-60b4-4b55-92bb-c361a9589461",
   "metadata": {},
   "outputs": [],
   "source": []
  },
  {
   "cell_type": "code",
   "execution_count": null,
   "id": "9520a2a7-270c-4e5e-9bd8-43a4bb866461",
   "metadata": {},
   "outputs": [],
   "source": []
  },
  {
   "cell_type": "code",
   "execution_count": 2,
   "id": "6c3e85f2-7e37-4dc6-b193-9621b1e11976",
   "metadata": {},
   "outputs": [
    {
     "data": {
      "text/plain": [
       "4"
      ]
     },
     "execution_count": 2,
     "metadata": {},
     "output_type": "execute_result"
    }
   ],
   "source": [
    "x=4\n",
    "x"
   ]
  },
  {
   "cell_type": "code",
   "execution_count": 3,
   "id": "d5308871-2f4e-451c-ba84-a43e82c4e577",
   "metadata": {},
   "outputs": [],
   "source": [
    "def sayHello():\n",
    "    print('Hello, My lovely human')\n",
    "    return 0"
   ]
  },
  {
   "cell_type": "code",
   "execution_count": 13,
   "id": "376b6146-89d9-4e9a-b960-e98b29b4369f",
   "metadata": {},
   "outputs": [
    {
     "name": "stdout",
     "output_type": "stream",
     "text": [
      "Hello, My lovely human\n"
     ]
    },
    {
     "data": {
      "text/plain": [
       "0"
      ]
     },
     "execution_count": 13,
     "metadata": {},
     "output_type": "execute_result"
    }
   ],
   "source": [
    "sayHello()"
   ]
  },
  {
   "cell_type": "raw",
   "id": "b3fb91d5-8221-4a68-b425-e0d04ee7d1c3",
   "metadata": {},
   "source": [
    "# Algorithm\n",
    "## sayHello()\n",
    "---\n",
    "hi"
   ]
  },
  {
   "cell_type": "code",
   "execution_count": 15,
   "id": "112b9898-952d-4e45-8f15-b53a979d940f",
   "metadata": {},
   "outputs": [
    {
     "name": "stdout",
     "output_type": "stream",
     "text": [
      "Hello, python - I'm 김아영\n"
     ]
    }
   ],
   "source": [
    "print(\"Hello, python - I'm 김아영\")"
   ]
  },
  {
   "cell_type": "code",
   "execution_count": null,
   "id": "53e5c620-dd93-41c4-ad5c-8f2a7bc16b68",
   "metadata": {},
   "outputs": [],
   "source": []
  }
 ],
 "metadata": {
  "kernelspec": {
   "display_name": "Python 3 (ipykernel)",
   "language": "python",
   "name": "python3"
  },
  "language_info": {
   "codemirror_mode": {
    "name": "ipython",
    "version": 3
   },
   "file_extension": ".py",
   "mimetype": "text/x-python",
   "name": "python",
   "nbconvert_exporter": "python",
   "pygments_lexer": "ipython3",
   "version": "3.11.7"
  }
 },
 "nbformat": 4,
 "nbformat_minor": 5
}
