{
 "cells": [
  {
   "cell_type": "markdown",
   "metadata": {},
   "source": [
    "#####    알고리즘 6.1 기수정렬\n",
    "#####    알고리즘 설명:\n",
    "          기수 정렬에서는 버킷을 위해 큐를 사용한다. 물론 파이썬에서는 queue 모듈의 Queue 클래스를 사용할 수 있다. 정렬을 위해서는 먼저 사용할 버킷(큐)의 수 BUCKETS와 전체 패스의 수DIGITS를 결정해야 한다. 예를 들어 10진법으로 정렬하고, 자릿수가 최대 4인 숫자만 입력된다면 BUCKETS=10, \n",
    "          DIGITS=4와 같이 설정하면 된다.\n",
    "          알고리즘은 먼저 BUCKETS개의 공백 큐를 만드는 것으로 시작한다. 그리고 가장 낮은 자릿수부터 순서대로 DIGITS번의 패스를 통해 항목들을 큐에 넣고 빼는 동작을 반복한다.\n",
    "\n",
    "#####   손으로 푼 예제 : \n",
    "from queue import Queue\t\t   \n",
    "\n",
    "def radix_sort(A):\t   \t\t\t\n",
    "    queues = []     \n",
    "    for i in range(BUCKETS):\t   \t\t\t\n",
    "        queues.append(Queue())\t\t   \t\t\n",
    "\n",
    "    n = len(A)    \n",
    "    factor = 1\t    \t\t\t\t\t\n",
    "    for d in range(DIGITS):\t\t   \t\t\n",
    "        for i in range(n):\t\t\t    \t\n",
    "            queues[(A[i] // factor) % BUCKETS].put(A[i])\t   \n",
    "        i = 0\n",
    "        for b in range(BUCKETS):\t\t\t\n",
    "            while not queues[b].empty():\t\t\n",
    "                A[i] = queues[b].get()\t\t\t\n",
    "                i += 1\n",
    "        factor *= 10\t\t\t\t\t\n",
    "        print(\"step\", d + 1, A)\t\n",
    "  \n",
    "######    코드 개요(입력 변수, 출력, 함수 설명) \n",
    "######    입력 변수: \n",
    "    import random     \n",
    "    BUCKETS =10    \n",
    "    DIGITS =4   \n",
    "    data=[]   \n",
    "    for i in range(10):   \n",
    "        data.append(random.randint(1,9999))   \n",
    "    radix_sort(data)   \n",
    "    print(\"Radix: \",data)   \n",
    "#####    출력: \n",
    "             step 1 [8510, 6891, 8861, 9162, 7933, 5763, 6913, 8066, 1259, 9089]   \n",
    "             step 2 [8510, 6913, 7933, 1259, 8861, 9162, 5763, 8066, 9089, 6891]   \n",
    "             step 3 [8066, 9089, 9162, 1259, 8510, 5763, 8861, 6891, 6913, 7933]   \n",
    "             step 4 [1259, 5763, 6891, 6913, 7933, 8066, 8510, 8861, 9089, 9162]   \n",
    "             Radix:  [1259, 5763, 6891, 6913, 7933, 8066, 8510, 8861, 9089, 9162]   \n",
    "            \n",
    "#####    복잡도 분석 : 기수 정렬 알고리즘"
   ]
  },
  {
   "cell_type": "code",
   "execution_count": 6,
   "metadata": {},
   "outputs": [
    {
     "name": "stdout",
     "output_type": "stream",
     "text": [
      "step 1 [8510, 6891, 8861, 9162, 7933, 5763, 6913, 8066, 1259, 9089]\n",
      "step 2 [8510, 6913, 7933, 1259, 8861, 9162, 5763, 8066, 9089, 6891]\n",
      "step 3 [8066, 9089, 9162, 1259, 8510, 5763, 8861, 6891, 6913, 7933]\n",
      "step 4 [1259, 5763, 6891, 6913, 7933, 8066, 8510, 8861, 9089, 9162]\n",
      "Radix:  [1259, 5763, 6891, 6913, 7933, 8066, 8510, 8861, 9089, 9162]\n"
     ]
    }
   ],
   "source": [
    "from queue import Queue\t\t\n",
    "\n",
    "def radix_sort(A):\t\t\t\t\n",
    "    queues = []\n",
    "    for i in range(BUCKETS):\t\t\t\t\n",
    "        queues.append(Queue())\t\t\t\t\n",
    "\n",
    "    n = len(A)\n",
    "    factor = 1\t\t\t\t\t\t\n",
    "    for d in range(DIGITS):\t\t\t\t\n",
    "        for i in range(n):\t\t\t\t\n",
    "            queues[(A[i] // factor) % BUCKETS].put(A[i])\t\n",
    "        i = 0\n",
    "        for b in range(BUCKETS):\t\t\t\n",
    "            while not queues[b].empty():\t\t\n",
    "                A[i] = queues[b].get()\t\t\t\n",
    "                i += 1\n",
    "        factor *= 10\t\t\t\t\t\n",
    "        print(\"step\", d + 1, A)\t\n",
    "\n",
    "import random\n",
    "BUCKETS =10\n",
    "DIGITS =4\n",
    "data=[]\n",
    "for i in range(10):\n",
    "    data.append(random.randint(1,9999))\n",
    "radix_sort(data)\n",
    "print(\"Radix: \",data)\n",
    "\n"
   ]
  },
  {
   "cell_type": "code",
   "execution_count": null,
   "metadata": {},
   "outputs": [],
   "source": []
  }
 ],
 "metadata": {
  "kernelspec": {
   "display_name": "base",
   "language": "python",
   "name": "python3"
  },
  "language_info": {
   "codemirror_mode": {
    "name": "ipython",
    "version": 3
   },
   "file_extension": ".py",
   "mimetype": "text/x-python",
   "name": "python",
   "nbconvert_exporter": "python",
   "pygments_lexer": "ipython3",
   "version": "3.11.7"
  }
 },
 "nbformat": 4,
 "nbformat_minor": 2
}
