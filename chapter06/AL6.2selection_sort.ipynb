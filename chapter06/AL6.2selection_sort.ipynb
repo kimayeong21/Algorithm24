{
 "cells": [
  {
   "cell_type": "markdown",
   "metadata": {},
   "source": [
    "#####    알고리즘 6.2 카운팅 정렬\n",
    "#####    알고리즘 설명:\n",
    "        리스트를 한번 스캔하면서 각 항목이 리스트에 몇 번 나타났는지 빈도수를 계산한다.   \n",
    "        빈도수가 구해지면 가장 작은 항목부터순서대로 빈도수만큼 나열한다.\n",
    "\n",
    "#####   손으로 푼 예제 : \n",
    "def counting_sort(A):    \n",
    "    output =[0] * len(A)   \n",
    "    count =[0] * MAX_VAL     \n",
    "                                      \n",
    "    for i in A:           \n",
    "        count[i] +=1           \n",
    "                             \n",
    "    for i in range(MAX_VAL):       \n",
    "        count[i] += count[i-1]        \n",
    "                                \n",
    "    for i in range(len(A)):                 \n",
    "        output[count[A[i]]-1] =A[i]            \n",
    "        count[A[i]]-=1              \n",
    "                                     \n",
    "    for i in range(len(A)):              \n",
    "        A[i] = output[i]                       \n",
    "  \n",
    "######    코드 개요(입력 변수, 출력, 함수 설명) \n",
    "######    입력 변수: \n",
    "MAX_VAL =10               \n",
    "data = [1,4,1,2,7,5,2]                  \n",
    "print(\"Original : \",data)              \n",
    "counting_sort(data)                 \n",
    "print(\"Counting : \",data)                        \n",
    "#####    출력: \n",
    "            Original :  [1, 4, 1, 2, 7, 5, 2]        \n",
    "            Counting :  [1, 1, 2, 2, 4, 5, 7]          \n",
    "            \n",
    "#####    복잡도 분석 : 카운팅 정렬 알고리즘"
   ]
  },
  {
   "cell_type": "code",
   "execution_count": 1,
   "metadata": {},
   "outputs": [
    {
     "name": "stdout",
     "output_type": "stream",
     "text": [
      "Original :  [1, 4, 1, 2, 7, 5, 2]\n",
      "Counting :  [1, 1, 2, 2, 4, 5, 7]\n"
     ]
    }
   ],
   "source": [
    "def counting_sort(A):\n",
    "    output =[0] * len(A)\n",
    "    count =[0] * MAX_VAL\n",
    "\n",
    "    for i in A:\n",
    "        count[i] +=1\n",
    "\n",
    "    for i in range(MAX_VAL):\n",
    "        count[i] += count[i-1]\n",
    "\n",
    "    for i in range(len(A)):\n",
    "        output[count[A[i]]-1] =A[i]\n",
    "        count[A[i]]-=1\n",
    "\n",
    "    for i in range(len(A)):\n",
    "        A[i] = output[i]\n",
    "\n",
    "MAX_VAL =10\n",
    "data = [1,4,1,2,7,5,2]\n",
    "print(\"Original : \",data)\n",
    "counting_sort(data)\n",
    "print(\"Counting : \",data)\n"
   ]
  }
 ],
 "metadata": {
  "kernelspec": {
   "display_name": "base",
   "language": "python",
   "name": "python3"
  },
  "language_info": {
   "codemirror_mode": {
    "name": "ipython",
    "version": 3
   },
   "file_extension": ".py",
   "mimetype": "text/x-python",
   "name": "python",
   "nbconvert_exporter": "python",
   "pygments_lexer": "ipython3",
   "version": "3.11.7"
  }
 },
 "nbformat": 4,
 "nbformat_minor": 2
}
