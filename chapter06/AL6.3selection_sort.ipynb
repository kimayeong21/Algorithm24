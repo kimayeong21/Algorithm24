{
 "cells": [
  {
   "cell_type": "markdown",
   "metadata": {},
   "source": [
    "#####    알고리즘 6.3~6.4 알고르즘\n",
    "#####    알고리즘 설명:\n",
    "        억지 기법과는 달리 이 알고리즘은 경험적인 전략(휴리스틱)들을 이용함\n",
    "        BANANA의 순으로 APPLEM과 비교하는 것이 아니라 반대로, 즉 ANANAB의 순으로 MELPPA와 비교하는 것이다. 이것은 가능한 한 많은 위치를 검사하지 않고 뛰어넘기 위한 전략이다.\n",
    " \n",
    "#####   손으로 푼 예제 : \n",
    "NO_OF_CHARS = 128\n",
    "\n",
    "def shift_table(pat):\n",
    "    m = len(pat)\n",
    "    tbl = [m] * NO_OF_CHARS\n",
    "\n",
    "    for i in range(m - 1):\n",
    "        tbl[ord(pat[i])] = m - 1 - i\n",
    "    return tbl\n",
    "\n",
    "def search_horspool(T, P):      \n",
    "    m = len(P)      \n",
    "    n = len(T)       \n",
    "    t = shift_table(P)    \n",
    "    i = m - 1        \n",
    "    while i <= n - 1:    \n",
    "      k = 0            \n",
    "      while k <= m - 1 and P[m - 1 - k] == T[i - k]:    \n",
    "            k += 1      \n",
    "            if k == m:       \n",
    "               return i - m + 1    \n",
    "            else:     \n",
    "               tc = t[ord(T[i])]    \n",
    "               i += tc    \n",
    "      return -1            \n",
    "                      \n",
    "  \n",
    "######    코드 개요(입력 변수, 출력, 함수 설명) \n",
    "######    입력 변수: \n",
    "print(\"패턴의 위치: \", search_horspool(\"APPLEMANGOBANANAGRAPE\", \"BANANA\"))\n",
    "                       \n",
    "#####    출력: \n",
    "             패턴의 위치:  10"
   ]
  },
  {
   "cell_type": "code",
   "execution_count": 13,
   "metadata": {},
   "outputs": [
    {
     "name": "stdout",
     "output_type": "stream",
     "text": [
      "패턴의 위치:  10\n"
     ]
    }
   ],
   "source": [
    "NO_OF_CHARS = 128\n",
    "\n",
    "def shift_table(pat):\n",
    "    m = len(pat)\n",
    "    tbl = [m] * NO_OF_CHARS\n",
    "\n",
    "    for i in range(m - 1):\n",
    "        tbl[ord(pat[i])] = m - 1 - i\n",
    "    return tbl\n",
    "\n",
    "def search_horspool(T, P):\n",
    "    m = len(P)\n",
    "    n = len(T)\n",
    "    t = shift_table(P)\n",
    "    i = m - 1\n",
    "    while i <= n - 1:\n",
    "      k = 0\n",
    "      while k <= m - 1 and P[m - 1 - k] == T[i - k]:\n",
    "            k += 1\n",
    "            if k == m:\n",
    "               return i - m + 1\n",
    "            else:\n",
    "               tc = t[ord(T[i])]\n",
    "               i += tc\n",
    "      return -1\n",
    "\n",
    "print(\"패턴의 위치: \", search_horspool(\"APPLEMANGOBANANAGRAPE\", \"BANANA\"))\n",
    "\n"
   ]
  },
  {
   "cell_type": "code",
   "execution_count": null,
   "metadata": {},
   "outputs": [],
   "source": []
  }
 ],
 "metadata": {
  "kernelspec": {
   "display_name": "base",
   "language": "python",
   "name": "python3"
  },
  "language_info": {
   "codemirror_mode": {
    "name": "ipython",
    "version": 3
   },
   "file_extension": ".py",
   "mimetype": "text/x-python",
   "name": "python",
   "nbconvert_exporter": "python",
   "pygments_lexer": "ipython3",
   "version": "3.11.7"
  }
 },
 "nbformat": 4,
 "nbformat_minor": 2
}
