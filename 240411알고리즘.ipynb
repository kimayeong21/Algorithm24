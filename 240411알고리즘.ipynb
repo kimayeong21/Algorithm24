{
 "cells": [
  {
   "cell_type": "markdown",
   "metadata": {},
   "source": [
    "##### 알고리즘 3.1 선택정렬\n",
    "###### 문제정의 : 리스트에 n개의 항목들이 들어 있다. 이들을 키(key)의 순서에 따라 오름차순으로 재배치하라.\n",
    "###### 알고리즘 설명 : 정렬이 안 된 리스트에서 최솟값이 선택되면 이 값을 새로운 리스트에 저장하는 것이 아니라 첫 번째 요소와 교환한다.\n",
    "###### 손으로 푼 예제 : ![202311394 김아영][C:\\Users\\cngot\\OneDrive\\사진\\스크린샷 2024-04-14 213125.jpg]\n",
    "\n",
    "###### 알고리즘 개요(입력 변수, 출력, 알고리즘 개요) : \n",
    "###### 입력 변수 : [5, 3, 8, 4, 9, 1, 6, 2, 7] -> 정렬이 되지 않은 상태\n",
    "###### 출력 : [1, 2, 3, 4, 5, 6, 7, 8, 9] -> 정렬된 상태\n",
    "###### 알고리즘 개요 : 선택 정렬"
   ]
  },
  {
   "cell_type": "code",
   "execution_count": 23,
   "metadata": {},
   "outputs": [
    {
     "name": "stdout",
     "output_type": "stream",
     "text": [
      "Original :  [5, 3, 8, 4, 9, 1, 6, 2, 7]\n",
      "Step  1 = [1, 3, 8, 4, 9, 5, 6, 2, 7]\n",
      "Step  2 = [1, 2, 8, 4, 9, 5, 6, 3, 7]\n",
      "Step  3 = [1, 2, 3, 4, 9, 5, 6, 8, 7]\n",
      "Step  4 = [1, 2, 3, 4, 9, 5, 6, 8, 7]\n",
      "Step  5 = [1, 2, 3, 4, 5, 9, 6, 8, 7]\n",
      "Step  6 = [1, 2, 3, 4, 5, 6, 9, 8, 7]\n",
      "Step  7 = [1, 2, 3, 4, 5, 6, 7, 8, 9]\n",
      "Step  8 = [1, 2, 3, 4, 5, 6, 7, 8, 9]\n",
      "Selection: [1, 2, 3, 4, 5, 6, 7, 8, 9]\n"
     ]
    }
   ],
   "source": [
    "#알고리즘 3.1 선택정렬\n",
    "def selection_sort(A):             #선택정렬 (1행 선택 정렬 알고리즘. 정렬되지 않은 리스트 A가 입력된다)\n",
    "    n = len(A)                     #n: 리스트 A의 길이(리스트의 길이[문제의 크기])\n",
    "    for i in range(n-1):            #0,1,2,....n-2[외부 루프](0~n-2의 모든 i에 대해.)\n",
    "        least = i                   #(4-7행 i 이후의 모든 항목에서 가장 작은 항목의 인덱스 least를 계산)\n",
    "        for j in range(i+1,n):               #i+1.....n-1[내부 루프]\n",
    "            if(A[j]<A[least]):                #비교연산\n",
    "                least = j                     #최소항목 갱신\n",
    "        A[i], A[least] = A[least],A[i]         #배열 항목 교환(i번째 항목과 least항목을 서로 교환함)\n",
    "        printStep(A, i+1)              # 중간 과정 출력용 문장(리스트의 중간 과정을 출력하기 위한 문장을 추가)\n",
    "\n",
    "def printStep(arr, val):\n",
    "    print(\"Step %2d = \"%val,end='')\n",
    "    print(arr)\n",
    "    \n",
    "data = [5,3,8,4,9,1,6,2,7]\n",
    "print(\"Original : \",data)\n",
    "selection_sort(data)\n",
    "print(\"Selection:\",data)"
   ]
  },
  {
   "cell_type": "markdown",
   "metadata": {},
   "source": [
    "#### 알고리즘 3.2 순차 탐색(다사 보기)\n",
    "###### 문제 정의: 리스트에 n개의 항목이 들어 있다. 이 리스트에서 \"탐색기\"를 가진 항목을 찾아라. 만약 찾는 항목이 있으면 그 항목의 인덱스를 반환하고, 없으면 -1을 반환하라. 단, 리스트의 항목들은 정렬되어 있지 않다.\n",
    "###### 알고리즘 설명: 입력 리스트의 첫 항목부터 순서대로 하나씩 탐색키와 비교한다.\n",
    "###### 손으로 푼 예제: ![202311394 김아영][C:\\Users\\cngot\\OneDrive\\사진\\스크린샷 2024-04-14 213751.jpg]\n",
    "###### 입력 변수 : [17, 92, 18, 33, 58, 7, 33, 42] 리스트의 번호와 같을 때까지 반복\n",
    "\n",
    "###### 출력 : 2(만약 18을 찾는다면 반복하여 인덱스 2가 출력됨)\n",
    "###### 알고리즘 개요 : 순차 정렬\n"
   ]
  },
  {
   "cell_type": "code",
   "execution_count": 8,
   "metadata": {},
   "outputs": [
    {
     "name": "stdout",
     "output_type": "stream",
     "text": [
      "2\n"
     ]
    }
   ],
   "source": [
    "#알고리즘 3.2 순차 탐색(다사 보기)\n",
    "def seqyebtial_search(A,key): #A는 입력 리스트, key는 탐색 키\n",
    "    for i in range(len(A)):   #i: 0,1 ....len(A)-1\n",
    "        if A[i] == key:                 #탐색 성공하면(비교 연산, 기본 연산임)\n",
    "            return i                    #인덱스 반환\n",
    "    return -1                             #팀색이 실패하면 -1반환\n",
    "    \n",
    "v = [17, 92, 18, 33, 58, 7, 33, 42]\n",
    "print(seqyebtial_search(v, 18)) "
   ]
  },
  {
   "cell_type": "markdown",
   "metadata": {},
   "source": [
    "#### 알고리즘 3.3 문자열 매칭(억지 기법)\n",
    "###### 문제정의 : 텍스트의 첫 번째 문자 우치에 패턴을 놓고 비교한다. 이 관정을 패턴을 오른쪽으로 한 칸씩 옮기면서 성공한 매칭이 나타날때까지 반복한다.\n",
    "###### 알고리즘 설명 : 텍스트의 첫 번째 문자 위치부터 패턴과 일치하는지를 검사하고 일치하지 않으면 패턴을 오른쪽으로 한 칸싹 옮겨가면서 비교한다. 이를 텍스트의 끝까지 반복하여 성공적인 매칭을 찾는다. 이 알고리즘은 간단하지만 효율성이 낮아 큰 규모의 문자열에는 적합하지 않는다.\n",
    "###### 손으로 푼 예제 : ![202311394 김아영][C:\\Users\\cngot\\OneDrive\\사진\\스크린샷 2024-04-14 213814.jpg]\n",
    "###### 알고리즘 개요(입력 변수, 출력, 알고리즘 개요) : \n",
    "###### 입력 변수 : 'HELLO WORLD'에서 문자가 일치할 경우 매치성공, 아니면 매치실패\n",
    "###### 출력 : LO in HELLO WORLD --> 3(매칭성공) , HI in HELLO WORLD --> -1(매칭실패)\n",
    "###### 알고리즘 개요 : 억지 기법"
   ]
  },
  {
   "cell_type": "code",
   "execution_count": 1,
   "metadata": {},
   "outputs": [
    {
     "name": "stdout",
     "output_type": "stream",
     "text": [
      "LO in HELLO WORLD --> 3\n",
      "HI in HELLO WORLD --> -1\n"
     ]
    }
   ],
   "source": [
    "#알고리즘 3.3 문자열 매칭(억지 기법)\n",
    "def string_matching(T, P):            #T는 입력, P는 패턴 (억지 기법 문자열 매칭 알고리즘, 읿력 문자열 T와 패턴 P가 입력된다)\n",
    "    n = len(T)                        #n: 입력 문자열의 길이        \n",
    "    m = len(P)                        #m: 패턴 문자열의 길이\n",
    "    for i in range(n-m+1):                 #i,O,1......n-m(모든 가능한 패턴의 위치(범위에 유의하라)에 대해)\n",
    "        j = 0\n",
    "        while j<m and P[j]==T[i+j]:              #패턴 문자열을 모두 비교(6-9행: 패턴의 문자들을 비교해 모두 일치(i==m)하면 위치를 반환)\n",
    "            j = j+1                         \n",
    "        if j==m:                           #모든 문자가 일치하면, 매치성공\n",
    "            return i                     # 현재 위치 반환\n",
    "    return -1                            # 문자열 매칭 실패(모두 일치하는 경우가 없으면 매칭 실패이고, -1을 반환한다.)\n",
    "\n",
    "text='HELLO WORLD'\n",
    "pattern = 'LO'\n",
    "print(pattern, 'in', text,'-->',string_matching(text, pattern))\n",
    "pattern = 'HI'\n",
    "print(pattern, 'in', text,'-->',string_matching(text, pattern))"
   ]
  },
  {
   "cell_type": "markdown",
   "metadata": {},
   "source": [
    "#### 알고리즘 3.4 최근접 쌍의 거리 문제\n",
    "###### 문제정의 : 2차원 평면상에 n개의 점이 있다. 가장 인접한 쌍의 거리를 구하라.\n",
    "###### 알고리즘 설명 : 최근접 점 쌍 문제는 2차원 평면상에 주어진 여러 점들 중에서 가장 가까운 두 점 사이의 거리를 구하는 문제이다. 이를 해결하기 위해 주로 분할 정복 알고리즘이 사용되며, 이 알고리즘은 점들을 x좌표를 기준으로 정렬하고, 재귀적으로 점들을 분할하여 가장 가까운 두 점을 찾는다. 이렇게 구한 거리 중 최솟값을 최종적인 최단 거리로 반환한다.\n",
    "###### 손으로 푼 예제 : ![202311394 김아영][C:\\Users\\cngot\\OneDrive\\사진\\스크린샷 2024-04-14 213829.jpg]\n",
    "###### 알고리즘 개요(입력 변수, 출력, 알고리즘 개요) : \n",
    "###### 입력 변수 : [(2,3), (12,13), (40,50), (5,1), (12,10), (3,4)]리스트에서 최근접 거리를 계산하는 식인 (p1[0]-p2[0])**2+(p1[1]-p2[1])**2으로 계산하면 된다.\n",
    "###### 출력 : 최근접 거리:  1.4142135623730951\n",
    "###### 알고리즘 개요 : 최근접 쌍의 거리"
   ]
  },
  {
   "cell_type": "code",
   "execution_count": 9,
   "metadata": {},
   "outputs": [
    {
     "name": "stdout",
     "output_type": "stream",
     "text": [
      "최근접 거리:  1.4142135623730951\n"
     ]
    }
   ],
   "source": [
    "#알고리즘 3.4 최근접 쌍의 거리\n",
    "import math             #math 모듈 포함, 제곱근(sqrt) 함수 사용을 위해\n",
    "def distance(p1,p2):     #Euclidean 거리 계산 함수\n",
    "    return math.sqrt((p1[0]-p2[0])**2+(p1[1]-p2[1])**2)\n",
    "\n",
    "def closest_pair(p):          #점의 전체 개수(점의 리스트 p가 입려된다. [xn,yn]의 형태이다.)\n",
    "    n = len(p)              #최근접 거리 초기화(무한대)\n",
    "    mindist = float(\"inf\")       #일단 최근접 거리를 무한대하고 한다\n",
    "    for i in range(n-1):          # 7-12행 i<j를 만족하는 모든 쌍(pi,pj)에 대한 거리를 계산하고 mindist와 비교하여 이보다 작으면 mindisit를 갱신한다.\n",
    "        for j in range(i+1,n):         \n",
    "            dist = distance(p[i],p[j])\n",
    "            if dist <mindist:\n",
    "                mindist = dist\n",
    "        return mindist           #최종적으로 mindist에 최근접 쌍의 거리가 저장되어 있다.\n",
    "    \n",
    "\n",
    "p = [(2,3), (12,13), (40,50), (5,1), (12,10), (3,4)]\n",
    "print(\"최근접 거리: \", closest_pair(p))"
   ]
  },
  {
   "cell_type": "markdown",
   "metadata": {
    "vscode": {
     "languageId": "html"
    }
   },
   "source": [
    "#### 알고리즘 3.6 깊이 우선 탐색\n",
    "###### 문제정의 : 그래프 순회에 완전 탐색의 개념을 적용하면 모든 정점을 체계적으로 방문할 수 있는 두 가지 중요한 방법을 얻을 수 있다. 이것은 깊이 우선 탐색과 너비 우선 탐색이라고 한다.\n",
    "###### 알고리즘 설명 : 깊이 우선 탐색은 한 정점에서 시작하여 최대한 깊이 들어가서 탐색하는 방식이며, 너비 우선 탐색은 한 레벨씩 탐색하는 방식입니다.\n",
    "###### 손으로 푼 예제 :![202311394 김아영][C:\\Users\\cngot\\OneDrive\\사진\\스크린샷 2024-04-14 213844.jpg]\n",
    "###### 알고리즘 개요(입력 변수, 출력, 알고리즘 개요) : \n",
    "###### 입력 변수 : { 'A' : {'B', 'C'}, 'B' : {'A', 'D', 'E'}, 'C': {'A', 'F', 'G'}, 'D': {'B'},'E': {'B'}, 'F': {'C'},'G': {'C'}, }에서 A에서 방문하여 인접 정점 B와 C중에서 임의로 선택하여 탐색한후 여기서B를 선택해 탐색한 후 C를 먼저 탐색해도 상관없다 이경우 방문하는 순서는 달라지지만 모든 정점을 한 번씩 방문하는 것은 마찬가지이다 \n",
    "###### B의 인접 정점A와 D중에서 A는 이미 탐색한정점이므로 다시방문하지 않아야 한다. 남은 정점 D로 탐색을 진행한다. \n",
    "###### D에서 방문하지 않은 인접 정점 C와 F 중에서 C로 탐색을 진행, C에서는 E로 E에서는 G로 G에서는 H로 탐색을 진행한다. H에서는방문하지 않은 인접 정점이 없으므로 미로 탐색의 막다른 길과 마찬가지이다. \n",
    "###### 따라서 이전 이전 정점 G로 되돌아가서 방문하지 않은  인접 정점으르 살핌, G도 이런 정점이 없다면 C나 D로 되돌아가야 한다.\n",
    "###### D에서 가지 않은 정점 F가 있으므로 탐색을 진행\n",
    "###### F에서 더 이상 방문하지  않은 인접 정점이 없으므로 D로 되돌아오고, 마찬가지로 B와 A로되돌아온다. 시작 정점인A에서도 더 이상 방문하지  않은 정점이 없으므로 알고리즘 종료된다. \n",
    "\n",
    "###### 출력 : DFS:  ABDECGF\n",
    "###### 알고리즘 개요 : 깊이 우선 탐색"
   ]
  },
  {
   "cell_type": "code",
   "execution_count": 17,
   "metadata": {},
   "outputs": [
    {
     "name": "stdout",
     "output_type": "stream",
     "text": [
      "DFS:  ABDCGHEF\n"
     ]
    }
   ],
   "source": [
    "# 알고리즘 3.6 깊이 우선 탐색\n",
    "\n",
    "def dfs(graph,start,visited):         #깊이 우선 탐색 알고리즘\n",
    "    if start not in visited:          #START가 방문하지 않은정점이면\n",
    "        visited.add(start)            #START를 방문한노드 집합에 추가\n",
    "        print(start,end=\"\")            # START를 방문했다고 출력함\n",
    "        nbr = graph[start] - visited    #nbr: 차집합 연산  이용\n",
    "        for v in nbr:            # v E {인접정점} - {방문정점}\n",
    "            dfs(graph, v, visited)   #v에 대해 dfs를 순화적으로 호출\n",
    "\n",
    "\n",
    "mygraph = { 'A' : {'B', 'C'}, \n",
    "            'B' : {'A', 'D', 'E'},\n",
    "            'C': {'A', 'F', 'G'},\n",
    "            'D': {'C', 'D'},\n",
    "            'E': {'G'}, \n",
    "            'F': {'A', 'B', 'C','D','E','F','G','H'},\n",
    "            'G': {'H'},\n",
    "            'H': {'A', 'B', 'C','D','E','F','G','H'},\n",
    "         }\n",
    "print('DFS: ', end=\" \")\n",
    "dfs(mygraph,\"A\",set())     # visited에 공집합 전달\n",
    "print()"
   ]
  },
  {
   "cell_type": "markdown",
   "metadata": {},
   "source": [
    "#### 알고리즘 3.6 너비 우선 탐색\n",
    "###### 문제정의 : 그래프 순회에 완전 탐색의 개념을 적용하면 모든 정점을 체계적으로 방문할 수 있는 두 가지 중요한 방법을 얻을 수 있다. 이것은 깊이 우선 탐색과 너비 우선 탐색이라고 한다.\n",
    "###### 알고리즘 설명 : 너비 우선 탐색(BFS)은 시작 정점에서부터 모든 정점을 체계적으로 방문하는 그래프 탐색 알고리즘입니다. 이 알고리즘은 시작 정점을 큐에 넣고 인접한 정점을 모두 방문한 후에 차례로 탐색합니다. 방문한 정점은 큐에서 제거되고, 그 정점과 연결된 이웃 정점들은 모두 큐에 추가됩니다. 이 과정을 큐가 빌 때까지 반복하여 그래프의 모든 정점을 탐색합니다.\n",
    "###### 손으로 푼 예제 :![202311394 김아영][C:\\Users\\cngot\\OneDrive\\사진\\스크린샷 2024-04-14 213844.jpg]\n",
    "###### 알고리즘 개요(입력 변수, 출력, 알고리즘 개요) : \n",
    "###### 입력 변수 : 1.A를 시작 정점이라 하자, 처음에는 ZBDP [A]만 들어 있음 :  2. 큐에서 A를  꺼내고 아직 방문하지 하지 않은 인접 정점 B와 C를 순서대로 방문 이들을 큐의 넣음 이제 큐[B,C]가 순서대로 들어가있음 visit={A,B,C} : 3. 닫시 큐에서 B를 꺼내고 방문하지 않은 이숫 정점 B를 방문 큐의 넣는다.visit={A,B,C,D} : 4. 큐애서 C를 꺼내고 이웃 정점 E를 방문 이를 큐의 넣음 visit={A,B,C,D,E}: 5. 큐에서 E를 꺼내고 F를 방문 큐의 넣음 visit={A,B,C,D,E,F} : 6. 큐에서 E를 꺼내고 바아문하지 않은 이웃 정점 G와 H를 방문하고 큐의 삽입 : 7. 더이상 방문하지 않은 이웃은 없다 그러므로 큐는 다시 공백 상태가 되고 탐색은 종료된다\n",
    "###### 출력 : BFS:  ABCDEFGH\n",
    "###### 알고리즘 개요 : 너비 우선 탐색"
   ]
  },
  {
   "cell_type": "code",
   "execution_count": 18,
   "metadata": {},
   "outputs": [
    {
     "name": "stdout",
     "output_type": "stream",
     "text": [
      "BFS:  ABDCGHEF\n"
     ]
    }
   ],
   "source": [
    "# 알고리즘 3.6 너비 우선 탐색\n",
    "\n",
    "import queue                  \n",
    "def bfs(graph,start):\n",
    "    visited = {start}               #맨 처음에는 start만 방문한 정점임\n",
    "    que = queue.Queue()           # 파이썬 큐 모듈의 큐 객체 생성\n",
    "    que.put(start)\n",
    "    while not  que.empty():      #큐에 항목이 있을 때 까지\n",
    "        v = que.get()                #큐에서 하나의 정점 v를 빼냄\n",
    "        print(v,end='')                  #v는 방문했음을 출력\n",
    "        nbr = graph[v] - visited         #nbr = {v의 인접정점} - {방문정점}\n",
    "        for u in nbr:                   # 갈 수 있는 모든 인접 정점에 대해\n",
    "            visited.add(u)              # 이제 u는 방문했음\n",
    "            que.put(u)                  # u를 큐에 삽입\n",
    "\n",
    "mygraph = { 'A' : {'B', 'C'}, \n",
    "            'B' : {'A', 'D', 'E'},\n",
    "            'C': {'A', 'F', 'G'},\n",
    "            'D': {'C', 'D'},\n",
    "            'E': {'G'}, \n",
    "            'F': {'A', 'B', 'C','D','E','F','G','H'},\n",
    "            'G': {'H'},\n",
    "            'H': {'A', 'B', 'C','D','E','F','G','H'},\n",
    "         }\n",
    "print('BFS: ', end=\" \")\n",
    "dfs(mygraph,\"A\",set())     # visited에 공집합 전달\n",
    "print()\n"
   ]
  }
 ],
 "metadata": {
  "kernelspec": {
   "display_name": "base",
   "language": "python",
   "name": "python3"
  },
  "language_info": {
   "codemirror_mode": {
    "name": "ipython",
    "version": 3
   },
   "file_extension": ".py",
   "mimetype": "text/x-python",
   "name": "python",
   "nbconvert_exporter": "python",
   "pygments_lexer": "ipython3",
   "version": "3.11.7"
  }
 },
 "nbformat": 4,
 "nbformat_minor": 2
}
