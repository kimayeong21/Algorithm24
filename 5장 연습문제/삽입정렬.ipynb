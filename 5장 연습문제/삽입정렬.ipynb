{
 "cells": [
  {
   "cell_type": "markdown",
   "metadata": {},
   "source": [
    "#### 삽입 정렬의 변형된 알고리즘\n",
    "\n",
    "insertion_sort2(A,n)\n",
    "    for i+1 to n-1 do\n",
    "        j<- i-1;\n",
    "        while j=0 and A[j]>A[j+1]do\n",
    "            A[j]<->A[j+];\n",
    "                j<- j-1\n"
   ]
  },
  {
   "cell_type": "code",
   "execution_count": 1,
   "metadata": {},
   "outputs": [
    {
     "name": "stdout",
     "output_type": "stream",
     "text": [
      "Original: [7, 2, 5, 4, 1, 9, 3]\n",
      "Sorted: [1, 2, 3, 4, 5, 7, 9]\n"
     ]
    }
   ],
   "source": [
    "def insertion_sort(A):\n",
    "    # 리스트의 길이\n",
    "    n = len(A)\n",
    "\n",
    "    # 1부터 n-1까지 순차적으로 정렬\n",
    "    for i in range(1, n):\n",
    "        # 현재 요소를 저장\n",
    "        key = A[i]\n",
    "        j = i - 1\n",
    "\n",
    "        # 정렬된 부분에서 키가 들어갈 위치를 찾음\n",
    "        while j >= 0 and A[j] > key:\n",
    "            # 요소를 한 칸씩 뒤로 이동\n",
    "            A[j + 1] = A[j]\n",
    "            j -= 1\n",
    "\n",
    "        # 적절한 위치에 키 삽입\n",
    "        A[j + 1] = key\n",
    "\n",
    "# 테스트를 위한 데이터\n",
    "data = [7, 2, 5, 4, 1, 9, 3]\n",
    "\n",
    "print(\"Original:\", data)\n",
    "\n",
    "# 삽입 정렬 실행\n",
    "insertion_sort(data)\n",
    "\n",
    "print(\"Sorted:\", data)\n",
    "\n"
   ]
  }
 ],
 "metadata": {
  "kernelspec": {
   "display_name": "base",
   "language": "python",
   "name": "python3"
  },
  "language_info": {
   "codemirror_mode": {
    "name": "ipython",
    "version": 3
   },
   "file_extension": ".py",
   "mimetype": "text/x-python",
   "name": "python",
   "nbconvert_exporter": "python",
   "pygments_lexer": "ipython3",
   "version": "3.11.7"
  }
 },
 "nbformat": 4,
 "nbformat_minor": 2
}
