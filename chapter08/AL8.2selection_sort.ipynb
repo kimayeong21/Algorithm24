{
 "cells": [
  {
   "cell_type": "markdown",
   "metadata": {},
   "source": [
    "#####    알고리즘 8.2 분할 가능한 배낭 채우기(탐욕적 기법)\n",
    "#####    알고리즘 설명:\n",
    "         탐욕적인 해: 무게당 가격이 비싼 물건부터 순서대로 배낭의 남은 용량을 넘지 않는 최대한으로 채운다\n",
    "         가능한 해인지 검사: 배낭의 용량을 넘치지만 않으면 이 탐욕적 부분해는 항상 가능한 해이다.\n",
    "\n",
    "#####   손으로 푼 예제 : \n",
    "def knapSack_fractiona_greedy(obj,W):     \n",
    "    obj.sort(key=lambda o: o[2]/o[1], reverse=True)      #내림차순           \n",
    "\n",
    "    totalValue=0                # 전체 배낭의 가치      \n",
    "    for o in obj:      \n",
    "        if W <=0: break     \n",
    "        if W -o[1]>=0:     \n",
    "            W-=o[1]    \n",
    "            totalValue +=o[2]    \n",
    "        else:    \n",
    "            fraction = W / o[1]    \n",
    "            totalValue += o[2] * fraction    \n",
    "            W = int(W - (o[1]*fraction))    \n",
    "                          \n",
    "    return totalValue                                       \n",
    "                                    \n",
    "######    코드 개요(입력 변수, 출력, 함수 설명) \n",
    "######    입력 변수: \n",
    "obj = [(\"A\",10,80), (\"B\",12,120),(\"C\",8,60)]              \n",
    "print(\"W= 18\",obj)       \n",
    "print(\"부분적인배낭(18): \",knapSack_fractiona_greedy(obj,18),end='\\n\\n')        \n",
    "           \n",
    "obj = [(\"A\",10,60),(\"B\",40,40),(\"C\",20,100),(\"D\",30,120)]        \n",
    "print(\"W=50\",obj)        \n",
    "print(\"부분적인배낭(50): \",knapSack_fractiona_greedy(obj,50))                               \n",
    "#####    출력:  \n",
    "          W= 18 [('A', 10, 80), ('B', 12, 120), ('C', 8, 60)]\n",
    "          부분적인배낭(18):  168.0\n",
    "\n",
    "          W=50 [('A', 10, 60), ('B', 40, 40), ('C', 20, 100), ('D', 30, 120)]\n",
    "          부분적인배낭(50):  240.0         \n",
    "            \n",
    "#####    복잡도 분석 : \n",
    "        시간 복잡도를 살펴보자. n개의 물건이 주어지는 경우, 먼저 2행에서 장랼이 필요하므로 일단 O(n log2 n)의 시간이 필요하다 다음 과정은 n번 반복하는 5행의 루프 하나뿐이므로 O(n)이다. 결국, 전체 알고리즘의 시간 복잡도는 정렬 방법에 달려 있고, 따라서 O(N log2 n)이라고 볼 수 있다. 만약 자료가 이미 정렬 되어 있거나, 기수 정렬이나 카운팅 정렬과 같은 정렬 방법을 사용할 수 있는 경우라면 거의 선형시간에 처리할 수 있다\n",
    "        결론적으로 0-1 배낭 채우기 문제는 탐욕적 전략으로는 최적해를 구할 수 없지만, 문제의 조건을 약간 변경하여 하나의 물건을 나누어 담을 수 있다고 가정하면 탐욕적 기법으로도 최적해를 구할 수 있다. 0-1 배낭 채우기 문제는 완전 탐색이나 동적 계획법 등 더 복잡한 방법으로 최적해를 구해야 한다"
   ]
  },
  {
   "cell_type": "code",
   "execution_count": 5,
   "metadata": {},
   "outputs": [
    {
     "name": "stdout",
     "output_type": "stream",
     "text": [
      "W= 18 [('A', 10, 80), ('B', 12, 120), ('C', 8, 60)]\n",
      "부분적인배낭(18):  168.0\n",
      "\n",
      "W=50 [('A', 10, 60), ('B', 40, 40), ('C', 20, 100), ('D', 30, 120)]\n",
      "부분적인배낭(50):  240.0\n"
     ]
    }
   ],
   "source": [
    "def knapSack_fractiona_greedy(obj,W):\n",
    "    obj.sort(key=lambda o: o[2]/o[1], reverse=True)     #내림차순\n",
    "\n",
    "    totalValue=0           # 전체 배낭의 가치\n",
    "    for o in obj:\n",
    "        if W <=0: break\n",
    "        if W -o[1]>=0:\n",
    "            W-=o[1]\n",
    "            totalValue +=o[2]\n",
    "        else:\n",
    "            fraction = W / o[1]\n",
    "            totalValue += o[2] * fraction\n",
    "            W = int(W - (o[1]*fraction))\n",
    "\n",
    "    return totalValue\n",
    "\n",
    "\n",
    "obj = [(\"A\",10,80), (\"B\",12,120),(\"C\",8,60)]\n",
    "print(\"W= 18\",obj)\n",
    "print(\"부분적인배낭(18): \",knapSack_fractiona_greedy(obj,18),end='\\n\\n')\n",
    "\n",
    "obj = [(\"A\",10,60),(\"B\",40,40),(\"C\",20,100),(\"D\",30,120)]\n",
    "print(\"W=50\",obj)\n",
    "print(\"부분적인배낭(50): \",knapSack_fractiona_greedy(obj,50))"
   ]
  },
  {
   "cell_type": "code",
   "execution_count": null,
   "metadata": {},
   "outputs": [],
   "source": []
  }
 ],
 "metadata": {
  "kernelspec": {
   "display_name": "base",
   "language": "python",
   "name": "python3"
  },
  "language_info": {
   "codemirror_mode": {
    "name": "ipython",
    "version": 3
   },
   "file_extension": ".py",
   "mimetype": "text/x-python",
   "name": "python",
   "nbconvert_exporter": "python",
   "pygments_lexer": "ipython3",
   "version": "3.11.7"
  }
 },
 "nbformat": 4,
 "nbformat_minor": 2
}
