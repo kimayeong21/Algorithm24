{
 "cells": [
  {
   "cell_type": "markdown",
   "metadata": {},
   "source": [
    "# 알고리즘 [5장] 연습문제 22번\n"
   ]
  },
  {
   "cell_type": "code",
   "execution_count": 1,
   "metadata": {},
   "outputs": [
    {
     "name": "stdout",
     "output_type": "stream",
     "text": [
      "최소 거리: 1.4142135623730951\n"
     ]
    }
   ],
   "source": [
    "import math\n",
    "\n",
    "def dist(p1, p2):\n",
    "    return math.sqrt((p1[0] - p2[0]) ** 2 + (p1[1] - p2[1]) ** 2)\n",
    "\n",
    "def merge(A, left, mid, right):\n",
    "    sorted_A = []\n",
    "    i, j = left, mid + 1\n",
    "    \n",
    "    while i <= mid and j <= right:\n",
    "        if A[i][1] <= A[j][1]:\n",
    "            sorted_A.append(A[i])\n",
    "            i += 1\n",
    "        else:\n",
    "            sorted_A.append(A[j])\n",
    "            j += 1\n",
    "    \n",
    "    while i <= mid:\n",
    "        sorted_A.append(A[i])\n",
    "        i += 1\n",
    "    \n",
    "    while j <= right:\n",
    "        sorted_A.append(A[j])\n",
    "        j += 1\n",
    "\n",
    "    for k in range(left, right + 1):\n",
    "        A[k] = sorted_A[k - left]\n",
    "\n",
    "def strip_closest(strip, d):\n",
    "    min_d = d\n",
    "    strip.sort(key=lambda p: p[1])  # Y 좌표로 정렬\n",
    "    \n",
    "    for i in range(len(strip)):\n",
    "        for j in range(i + 1, len(strip)):\n",
    "            if (strip[j][1] - strip[i][1]) >= min_d:\n",
    "                break\n",
    "            min_d = min(min_d, dist(strip[i], strip[j]))\n",
    "    \n",
    "    return min_d\n",
    "\n",
    "def closest_pair_rec(P, left, right):\n",
    "    if right - left + 1 <= 3:\n",
    "        min_d = float('inf')\n",
    "        for i in range(left, right + 1):\n",
    "            for j in range(i + 1, right + 1):\n",
    "                min_d = min(min_d, dist(P[i], P[j]))\n",
    "        return min_d\n",
    "\n",
    "    mid = (left + right) // 2\n",
    "    mid_x = P[mid][0]\n",
    "\n",
    "    dl = closest_pair_rec(P, left, mid)\n",
    "    dr = closest_pair_rec(P, mid + 1, right)\n",
    "\n",
    "    d = min(dl, dr)\n",
    "\n",
    "    strip = [P[i] for i in range(left, right + 1) if abs(P[i][0] - mid_x) < d]\n",
    "\n",
    "    return min(d, strip_closest(strip, d))\n",
    "\n",
    "def closest_pair_dist(P):\n",
    "    P.sort(key=lambda p: p[0])  # X 좌표로 정렬\n",
    "    return closest_pair_rec(P, 0, len(P) - 1)\n",
    "\n",
    "# 예시 사용법\n",
    "points = [(2, 3), (12, 30), (40, 50), (5, 1), (12, 10), (3, 4)]\n",
    "print(\"최소 거리:\", closest_pair_dist(points))\n"
   ]
  },
  {
   "cell_type": "code",
   "execution_count": null,
   "metadata": {},
   "outputs": [],
   "source": []
  }
 ],
 "metadata": {
  "kernelspec": {
   "display_name": "base",
   "language": "python",
   "name": "python3"
  },
  "language_info": {
   "codemirror_mode": {
    "name": "ipython",
    "version": 3
   },
   "file_extension": ".py",
   "mimetype": "text/x-python",
   "name": "python",
   "nbconvert_exporter": "python",
   "pygments_lexer": "ipython3",
   "version": "3.11.7"
  }
 },
 "nbformat": 4,
 "nbformat_minor": 2
}
