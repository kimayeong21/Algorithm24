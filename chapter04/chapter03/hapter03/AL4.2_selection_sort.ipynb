{
 "cells": [
  {
   "cell_type": "markdown",
   "metadata": {},
   "source": [
    "######    알고리즘 4.2 팩토리얼(상항식)\n",
    "######    알고리즘 설명: 축소 정복전략을 하양식이나 상항식으로 적용한다. 상향식을 점증적(incremental)기법이라고도 한다.\n",
    "######    손으로 푼 예제 : \n",
    "def factorial_iter(n):\n",
    "\n",
    "    result = 1\n",
    "    for k in range(1,n+1):\n",
    "        result = result * k\n",
    "    return result\n",
    "######    코드 개요(입력 변수, 출력, 함수 설명) \n",
    "######    입력 변수:num = 5\n",
    "######              print(num, \"의 팩토리얼은\",factorial_iter(num), \"입니다.\")  \n",
    "######    출력: 5 의 팩토리얼은 120 입니다.\n",
    "######    복잡도 분석 :축소 정보 기법 :상항식 접근"
   ]
  },
  {
   "cell_type": "code",
   "execution_count": 3,
   "metadata": {},
   "outputs": [
    {
     "name": "stdout",
     "output_type": "stream",
     "text": [
      "5 의 팩토리얼은 120 입니다.\n"
     ]
    }
   ],
   "source": [
    "def factorial_iter(n):      #축소 정복 기법: 상향식 접근\n",
    "    result = 1\n",
    "    for k in range(1,n+1):         #반복구조 이용\n",
    "        result = result * k\n",
    "    return result\n",
    "\n",
    "num = 5\n",
    "print(num, \"의 팩토리얼은\",factorial_iter(num), \"입니다.\")"
   ]
  }
 ],
 "metadata": {
  "kernelspec": {
   "display_name": "base",
   "language": "python",
   "name": "python3"
  },
  "language_info": {
   "codemirror_mode": {
    "name": "ipython",
    "version": 3
   },
   "file_extension": ".py",
   "mimetype": "text/x-python",
   "name": "python",
   "nbconvert_exporter": "python",
   "pygments_lexer": "ipython3",
   "version": "3.11.7"
  }
 },
 "nbformat": 4,
 "nbformat_minor": 2
}
