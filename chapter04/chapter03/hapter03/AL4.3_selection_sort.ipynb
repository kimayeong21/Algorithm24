{
 "cells": [
  {
   "cell_type": "markdown",
   "metadata": {},
   "source": [
    "#####    알고리즘 4.3 삽입 정렬\n",
    "#####   알고리즘 설명: 고정 크기 축소 전략, 반복구조를 이용한 상향식 전략이 더 효율적인데 정렬된 리스트를 하나씩 키워나가는 방법으로 정렬한다.이런한 정렬 기법을 삽입 정렬이라고 한다.\n",
    "#####    손으로 푼 예제 : \n",
    "def insertion_sort(A):  \n",
    "    &nbsp;&nbsp;&nbsp;&nbsp;&nbsp;n = len(A)           \n",
    "    &nbsp;&nbsp;&nbsp;&nbsp;&nbsp;for i in range(1, n):            \n",
    "    &nbsp;&nbsp;&nbsp;&nbsp;&nbsp;    key = A[i]                     \n",
    "    &nbsp;&nbsp;&nbsp;&nbsp;&nbsp;j = i - 1  # 항목 A[i-1]부터 검사  \n",
    "\n",
    "\n",
    "    while j >= 0 and A[j] > key:         \n",
    "          A[j + 1] = A[j]  \n",
    "          j = j - 1             \n",
    "    A[j + 1] = key           \n",
    "    printStep(A, i)\n",
    "#####    코드 개요(입력 변수, 출력, 함수 설명) \n",
    "#####    입력 변수: data = [5, 3, 8, 4, 1, 6, 2, 7]\n",
    "#####    출력:\n",
    "          Original :  [5, 3, 8, 4, 1, 6, 2, 7] Step 1: [3, 5, 8, 4, 1, 6, 2, 7]\n",
    "          Step 2: [3, 5, 8, 4, 1, 6, 2, 7]\n",
    "          Step 3: [3, 4, 5, 8, 1, 6, 2, 7] \n",
    "          Step 4: [1, 3, 4, 5, 8, 6, 2, 7]\n",
    "          Step 5: [1, 3, 4, 5, 6, 8, 2, 7]\n",
    "          Step 6: [1, 2, 3, 4, 5, 6, 8, 7]\n",
    "          Step 7: [1, 2, 3, 4, 5, 6, 7, 8]\n",
    "          Insertion:  [1, 2, 3, 4, 5, 6, 7, 8]\n",
    "#####   복잡도 분석 :삽입 정렬"
   ]
  },
  {
   "cell_type": "code",
   "execution_count": 4,
   "metadata": {},
   "outputs": [
    {
     "name": "stdout",
     "output_type": "stream",
     "text": [
      "Original :  [5, 3, 8, 4, 1, 6, 2, 7]\n",
      "Step 1: [3, 5, 8, 4, 1, 6, 2, 7]\n",
      "Step 2: [3, 5, 8, 4, 1, 6, 2, 7]\n",
      "Step 3: [3, 4, 5, 8, 1, 6, 2, 7]\n",
      "Step 4: [1, 3, 4, 5, 8, 6, 2, 7]\n",
      "Step 5: [1, 3, 4, 5, 6, 8, 2, 7]\n",
      "Step 6: [1, 2, 3, 4, 5, 6, 8, 7]\n",
      "Step 7: [1, 2, 3, 4, 5, 6, 7, 8]\n",
      "Insertion:  [1, 2, 3, 4, 5, 6, 7, 8]\n"
     ]
    }
   ],
   "source": [
    "def insertion_sort(A):\n",
    "    n = len(A)            #입력의 크기\n",
    "    for i in range(1, n):              #외부 루프1,2 ..n-1\n",
    "        key = A[i]                     #A[i]를 key에 저장\n",
    "        j = i - 1  # 항목 A[i-1]부터 검사\n",
    "        while j >= 0 and A[j] > key:         #내부 루프\n",
    "            A[j + 1] = A[j]  # 항목들을 오른쪽으로 한칸씩 이동\n",
    "            j = j - 1             #위치를 왼쪽으로 이동\n",
    "        A[j + 1] = key           # 항목 A[i]를 제 위치에 삽입\n",
    "        printStep(A, i)\n",
    "\n",
    "def printStep(A, step):\n",
    "    print(f\"Step {step}: {A}\")\n",
    "\n",
    "data = [5, 3, 8, 4, 1, 6, 2, 7]\n",
    "print(\"Original : \", data)\n",
    "insertion_sort(data)\n",
    "print(\"Insertion: \", data)\n"
   ]
  }
 ],
 "metadata": {
  "kernelspec": {
   "display_name": "base",
   "language": "python",
   "name": "python3"
  },
  "language_info": {
   "codemirror_mode": {
    "name": "ipython",
    "version": 3
   },
   "file_extension": ".py",
   "mimetype": "text/x-python",
   "name": "python",
   "nbconvert_exporter": "python",
   "pygments_lexer": "ipython3",
   "version": "3.11.7"
  }
 },
 "nbformat": 4,
 "nbformat_minor": 2
}
