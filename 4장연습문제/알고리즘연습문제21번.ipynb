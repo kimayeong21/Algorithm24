{
 "cells": [
  {
   "cell_type": "markdown",
   "metadata": {},
   "source": [
    "#### 알고리즘 연습문제 21번"
   ]
  },
  {
   "cell_type": "code",
   "execution_count": 1,
   "metadata": {},
   "outputs": [
    {
     "name": "stdout",
     "output_type": "stream",
     "text": [
      "3번째 작은 수: 5\n"
     ]
    }
   ],
   "source": [
    "def lomuto_partition(A, left, right):\n",
    "    pivot = A[right]  # 피벗을 리스트의 맨 끝에 설정\n",
    "    i = left - 1  # 피벗보다 작은 요소들이 들어갈 위치\n",
    "\n",
    "    # 리스트의 왼쪽부터 피벗과 비교하여 분할\n",
    "    for j in range(left, right):\n",
    "        if A[j] < pivot:\n",
    "            i += 1\n",
    "            A[i], A[j] = A[j], A[i]  # 피벗보다 작은 경우 교환\n",
    "    \n",
    "    # 피벗을 올바른 위치로 이동\n",
    "    A[i + 1], A[right] = A[right], A[i + 1]\n",
    "    \n",
    "    return i + 1  # 피벗의 최종 위치 반환\n",
    "\n",
    "def quick_select(A, left, right, k):\n",
    "    if left <= right:\n",
    "        pos = lomuto_partition(A, left, right)  # 로무토 분할 사용\n",
    "\n",
    "        # 피벗의 위치가 k와 같으면 찾음\n",
    "        if pos == left + k - 1:\n",
    "            return A[pos]\n",
    "        # 피벗의 위치가 k보다 크면 왼쪽 부분 리스트에서 찾기\n",
    "        elif pos > left + k - 1:\n",
    "            return quick_select(A, left, pos - 1, k)\n",
    "        # 피벗의 위치가 k보다 작으면 오른쪽 부분 리스트에서 찾기\n",
    "        else:\n",
    "            return quick_select(A, pos + 1, right, k - (pos - left + 1))\n",
    "    return -1  # 예외 처리\n",
    "\n",
    "# 테스트용 데이터\n",
    "array = [12, 3, 5, 7, 4, 19, 26, 23, 15]\n",
    "\n",
    "# k번째 작은 요소 찾기\n",
    "k = 3\n",
    "result = quick_select(array, 0, len(array) - 1, k)\n",
    "\n",
    "print(f\"{k}번째 작은 수:\", result)"
   ]
  }
 ],
 "metadata": {
  "kernelspec": {
   "display_name": "base",
   "language": "python",
   "name": "python3"
  },
  "language_info": {
   "codemirror_mode": {
    "name": "ipython",
    "version": 3
   },
   "file_extension": ".py",
   "mimetype": "text/x-python",
   "name": "python",
   "nbconvert_exporter": "python",
   "pygments_lexer": "ipython3",
   "version": "3.11.7"
  }
 },
 "nbformat": 4,
 "nbformat_minor": 2
}
