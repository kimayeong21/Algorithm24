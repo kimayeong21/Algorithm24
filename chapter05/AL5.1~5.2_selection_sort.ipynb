{
 "cells": [
  {
   "cell_type": "markdown",
   "metadata": {},
   "source": [
    "######    알고리즘 5.1 ~ 5.2 병합정렬, 병합 알고리즘(정렬된 두 리스트의 병합)\n",
    "######    알고리즘 설명: 1.분할(Divide): 입력 리스트를 같은 크기의 2개의 부분 리스트로 분할한다.\n",
    "######                  2. 정복(Conquer): 부분 리스트를 정렬한다. 이때 부분 리슽의 크기가 충분히 작지 않으면 순환 호출을 이욯아여 다시 분할 정복 기법을 적용한다. 리스트의 크기가 1이면 이미 정복(쩡렬)된 것이다.\n",
    "######                  3. 병합(Combine, merge): 정렬된 부분 리스트들을 하나의 배열에 통합한다.\n",
    "######    손으로 푼 예제 : \n",
    "def merge_sort(A, left+right):          \n",
    "\n",
    "        if left<right:    \n",
    "            mid = (left+ right) //2    \n",
    "            merge_sort(A, left, mid)        \n",
    "            merge_sort(A,mid+1, right)            \n",
    "            merge(A, left, mid,right)          \n",
    "def merge(A, left, mid, right):   \n",
    "\n",
    "     k = left   \n",
    "     i = left    \n",
    "     j = mid + 1    \n",
    "     \n",
    "     while i<=mid and j<=right:   \n",
    "        if A[i] <= A[j]:   \n",
    "            sorted[k] =A[k]    \n",
    "            i,k = j+1, k+1   \n",
    "        else:           \n",
    "            sorted[k] = A[j]              \n",
    "            j, k  = j+1, k+1       \n",
    "     if i> mid:          \n",
    "        sorted[k:k+right-j+1]=A[j:right+1]         \n",
    "     else:        \n",
    "        sorted[k:k+mid+1]=sorted[left: right+1]     \n",
    "######    코드 개요(입력 변수, 출력, 함수 설명) \n",
    "######    입력 변수: \n",
    "            A= [7,10,4,3,20,15,30]\n",
    "            A[2:6]\n",
    "            A[2:6:2]\n",
    "\n",
    "            data=[5,4,8,4,9,1,6,2,7]\n",
    "            sorted = [0] * len(data)\n",
    "            print(\"Original : \",data)\n",
    "            merge_sort(data, 0, len(data)-1)\n",
    "            print(\"MergeSort : \", data)    \n",
    "######    출력: \n",
    "            Original :  [5, 4, 8, 4, 9, 1, 6, 2, 7]\n",
    "            MergeSort :  [5, 4, 8, 4, 9, 1, 6, 2, 7\n",
    "######    복잡도 분석 : 병합 알고리즘(정렬된 두 리스트의 병합)\n",
    "\n"
   ]
  },
  {
   "cell_type": "code",
   "execution_count": 2,
   "metadata": {},
   "outputs": [
    {
     "name": "stdout",
     "output_type": "stream",
     "text": [
      "Original :  [5, 4, 8, 4, 9, 1, 6, 2, 7]\n",
      "MergeSort :  [5, 4, 8, 4, 9, 1, 6, 2, 7]\n"
     ]
    }
   ],
   "source": [
    "def merge_sort(A, left,right):              #A[left..right0]를 오름차순으로 정렬\n",
    "        if left < right:                       #항목이 2개 이상인  경우\n",
    "            mid = (left+ right) //2              #리스트의 균등 분할\n",
    "            merge_sort(A, left, mid)             # 부분 리스트 정렬\n",
    "            merge_sort(A,mid+1, right)          # 부분 리스트 정렬\n",
    "            merge(A, left, mid, right)          #병합\n",
    "            #else: 항목이 1개 인 경우, 자동으로 정복되었음(하나이므로)\n",
    "\n",
    "def merge(A, left, mid, right):\n",
    "     k = left\n",
    "     i = left\n",
    "     j = mid + 1\n",
    "     while i<=mid and j<=right:\n",
    "        if A[i] <= A[j]:\n",
    "            sorted[k] =A[k]\n",
    "            i,k = j+1, k+1\n",
    "        else:\n",
    "            sorted[k] = A[j]\n",
    "            j, k  = j+1, k+1\n",
    "     if i> mid:\n",
    "        sorted[k:k+right-j+1]=A[j:right+1]\n",
    "     else:\n",
    "        sorted[k:k+mid+1]=sorted[left: right+1]\n",
    "\n",
    "A= [7,10,4,3,20,15,30]\n",
    "A[2:6]\n",
    "A[2:6:2]\n",
    "\n",
    "data=[5,4,8,4,9,1,6,2,7]\n",
    "sorted = [0] * len(data)\n",
    "print(\"Original : \",data)\n",
    "merge_sort(data, 0, len(data)-1)\n",
    "print(\"MergeSort : \", data)\n"
   ]
  }
 ],
 "metadata": {
  "kernelspec": {
   "display_name": "base",
   "language": "python",
   "name": "python3"
  },
  "language_info": {
   "codemirror_mode": {
    "name": "ipython",
    "version": 3
   },
   "file_extension": ".py",
   "mimetype": "text/x-python",
   "name": "python",
   "nbconvert_exporter": "python",
   "pygments_lexer": "ipython3",
   "version": "3.11.7"
  }
 },
 "nbformat": 4,
 "nbformat_minor": 2
}
