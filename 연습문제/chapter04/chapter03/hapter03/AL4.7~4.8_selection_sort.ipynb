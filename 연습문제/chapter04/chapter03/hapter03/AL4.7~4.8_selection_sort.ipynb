{
 "cells": [
  {
   "cell_type": "markdown",
   "metadata": {},
   "source": [
    "\n",
    "#####    알고리즘 4.7~4.8 거듭제곱(억지, 축소 정복 기법):x의 n-거듭제곱인 x^n을 계산하라\n",
    "#####    알고리즘 설명: \n",
    "          x^10 = x ● x ● x ● x ● x ● x ● x ● x ● x ● x \n",
    "               =(x ● x)●(x ● x)●(x ● x)●(x ● x) \n",
    "               =(x ● x)^5 = (x^2)^5 = y^5\n",
    "#####    손으로 푼 예제 :\n",
    "\n",
    "\n",
    "def slow_power(x,n):             #반복으로 을 구하는 함수\n",
    "\n",
    "    result = 1.0\n",
    "    for i in  range(n):        # 루브:n번 반복\n",
    "        result = result*x\n",
    "    return result\n",
    "\n",
    "def power(x,n):\n",
    "\n",
    "    if n==0:         #종료 조건\n",
    "        return -1           #모든 수의 0승은 1\n",
    "    elif(n%2)==0:           #n이 짝수\n",
    "        return power(x*x,n//2)        #정수의 나눗셈\n",
    "    else:                  #n이 홀수\n",
    "        return x*power(x*x,(n-1)//2)\n",
    "    \n",
    "\n",
    "\n",
    "#####    코드 개요(입력 변수, 출력, 함수 설명) \n",
    "#####    입력 변수: \n",
    "\n",
    "import time    \n",
    "print(\"억지기법(2**500)=\",power(2.0,500))    \n",
    "print(\"축소정복기법(2**500)=\",slow_power(2.0,500))    \n",
    "\n",
    "t1 = time.time()    \n",
    "for i in range(100000) : power(2.0,500)   \n",
    "t2 = time.time()   \n",
    "for i in range(100000) : slow_power(2.0,500)   \n",
    "t3 = time.time()   \n",
    "\n",
    "print(\"억지기법시간....\",t3-t2)   \n",
    "print(\"축소정복기법시간....\",t2-t1)   \n",
    "\n",
    "\n",
    "#####    출력: \n",
    "억지기법(2**500)= -3.273390607896142e+150    \n",
    "축소정복기법(2**500)= 3.273390607896142e+150    \n",
    "억지기법시간.... 2.5292749404907227    \n",
    "축소정복기법시간.... 0.22409415245056152      \n",
    "         \n",
    "#####   복잡도 분석 : 거듭제곱(억지,축소 정복 기법)"
   ]
  },
  {
   "cell_type": "code",
   "execution_count": 2,
   "metadata": {},
   "outputs": [
    {
     "name": "stdout",
     "output_type": "stream",
     "text": [
      "억지기법(2**500)= -3.273390607896142e+150\n",
      "축소정복기법(2**500)= 3.273390607896142e+150\n",
      "억지기법시간.... 2.5292749404907227\n",
      "축소정복기법시간.... 0.22409415245056152\n"
     ]
    }
   ],
   "source": [
    "def slow_power(x,n):           #반복으로 을 구하는 함수\n",
    "    result = 1.0\n",
    "    for i in  range(n):        # 루브:n번 반복\n",
    "        result = result*x\n",
    "    return result\n",
    "\n",
    "def power(x,n):\n",
    "    if n==0:         #종료 조건\n",
    "        return -1           #모든 수의 0승은 1\n",
    "    elif(n%2)==0:           #n이 짝수\n",
    "        return power(x*x,n//2)        #정수의 나눗셈\n",
    "    else:                  #n이 홀수\n",
    "        return x*power(x*x,(n-1)//2)\n",
    "    \n",
    "import time\n",
    "print(\"억지기법(2**500)=\",power(2.0,500))\n",
    "print(\"축소정복기법(2**500)=\",slow_power(2.0,500))\n",
    "\n",
    "t1 = time.time()\n",
    "for i in range(100000) : power(2.0,500)\n",
    "t2 = time.time()\n",
    "for i in range(100000) : slow_power(2.0,500)\n",
    "t3 = time.time()\n",
    "\n",
    "print(\"억지기법시간....\",t3-t2)\n",
    "print(\"축소정복기법시간....\",t2-t1)"
   ]
  },
  {
   "cell_type": "code",
   "execution_count": null,
   "metadata": {},
   "outputs": [],
   "source": []
  }
 ],
 "metadata": {
  "kernelspec": {
   "display_name": "base",
   "language": "python",
   "name": "python3"
  },
  "language_info": {
   "codemirror_mode": {
    "name": "ipython",
    "version": 3
   },
   "file_extension": ".py",
   "mimetype": "text/x-python",
   "name": "python",
   "nbconvert_exporter": "python",
   "pygments_lexer": "ipython3",
   "version": "3.11.7"
  }
 },
 "nbformat": 4,
 "nbformat_minor": 2
}
