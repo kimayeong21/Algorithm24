{
 "cells": [
  {
   "cell_type": "markdown",
   "metadata": {},
   "source": [
    "#####    알고리즘 4.5~4.6이진탐색(순환,반복)\n",
    "#####    알고리즘 설명: \n",
    "######    리스트에 n개의 항목이 들어있다. 이 리스트에서 '탐색기'를 가진 항목을 찾아라, 단, 리스트의 항ㅁ고들은 정렬되어 있지 않는다. \n",
    "######    리스트의 중앙에 있는 항목을 먼저 조사한다. 만약 이 항목이 탐색기보다 크다면 찾는 항목은 왼쪽에 있고, 오른쪽은 더 이상 검사할 필요가 없다. 반대로 그 항목이 탐색키보다 작다면 답은 오른쪽에 있고, 왼쪽은 검사할 필요가 없다. 따라서 각 단계마다 검사할 범위, 즉 문제의 크기가 반으로 줄어든다.\n",
    "#####    손으로 푼 예제 :\n",
    "\n",
    "def binary_search(A,key,low,high):\n",
    "\n",
    "    if(low <= high):\n",
    "        mid = (low+high)//2\n",
    "        if key == A[mid]:\n",
    "            return mid\n",
    "        elif key<A[mid]:\n",
    "            return binary_search(A, key , low, mid-1)\n",
    "        else:\n",
    "            return binary_search(A, key, mid+1, high)\n",
    "    return -1\n",
    "\n",
    "def binary_search_iter(A,key,low,high):\n",
    "\n",
    "    while(low <= high):\n",
    "        mid = (low+high)//2\n",
    "        if key == A[mid]:\n",
    "            return mid\n",
    "        elif key>A[mid]:\n",
    "            low= mid+1\n",
    "        else:\n",
    "            high= mid-1\n",
    "    return -1\n",
    "\n",
    "#####    코드 개요(입력 변수, 출력, 함수 설명) \n",
    "#####    입력 변수: \n",
    "\n",
    "listA=[1,3,8,13,13,16,21,26,27,30,33,36,39,41,44,49]   \n",
    "print(\"입력 리스트 = \",listA)    \n",
    "print(\"33탐색(순환) -->\",binary_search(listA,33,0,len(listA)-1))    \n",
    "print(\"33탐색(반복) -->\",binary_search_iter(listA,33,0,len(listA)-1))   \n",
    "print(\"32탐색(순환) -->\",binary_search(listA,32,0,len(listA)-1))    \n",
    "print(\"32탐색(반복) -->\",binary_search_iter(listA, 32, 0, len(listA)-1))    \n",
    "\n",
    "\n",
    "#####    출력: \n",
    "입력 리스트 =  [1, 3, 8, 13, 13, 16, 21, 26, 27, 30, 33, 36, 39, 41, 44, 49]\n",
    "\n",
    "33탐색(순환) --> 10    \n",
    "33탐색(반복) --> 10   \n",
    "32탐색(순환) --> -1   \n",
    "32탐색(반복) --> -1   \n",
    "         \n",
    "#####   복잡도 분석 : 이진탐색(순환,반복구조)"
   ]
  },
  {
   "cell_type": "code",
   "execution_count": 9,
   "metadata": {},
   "outputs": [
    {
     "name": "stdout",
     "output_type": "stream",
     "text": [
      "입력 리스트 =  [1, 3, 8, 13, 13, 16, 21, 26, 27, 30, 33, 36, 39, 41, 44, 49]\n",
      "33탐색(순환) --> 10\n",
      "33탐색(반복) --> 10\n",
      "32탐색(순환) --> -1\n",
      "32탐색(반복) --> -1\n"
     ]
    }
   ],
   "source": [
    "def binary_search(A,key,low,high):\n",
    "    if(low <= high):\n",
    "        mid = (low+high)//2\n",
    "        if key == A[mid]:\n",
    "            return mid\n",
    "        elif key<A[mid]:\n",
    "            return binary_search(A, key , low, mid-1)\n",
    "        else:\n",
    "            return binary_search(A, key, mid+1, high)\n",
    "    return -1\n",
    "\n",
    "def binary_search_iter(A,key,low,high):\n",
    "    while(low <= high):\n",
    "        mid = (low+high)//2\n",
    "        if key == A[mid]:\n",
    "            return mid\n",
    "        elif key>A[mid]:\n",
    "            low= mid+1\n",
    "        else:\n",
    "            high= mid-1\n",
    "    return -1\n",
    "\n",
    "listA=[1,3,8,13,13,16,21,26,27,30,33,36,39,41,44,49]\n",
    "print(\"입력 리스트 = \",listA)\n",
    "print(\"33탐색(순환) -->\",binary_search(listA,33,0,len(listA)-1))\n",
    "print(\"33탐색(반복) -->\",binary_search_iter(listA,33,0,len(listA)-1))\n",
    "print(\"32탐색(순환) -->\",binary_search(listA,32,0,len(listA)-1))\n",
    "print(\"32탐색(반복) -->\",binary_search_iter(listA, 32, 0, len(listA)-1))\n",
    "\n"
   ]
  },
  {
   "cell_type": "code",
   "execution_count": null,
   "metadata": {},
   "outputs": [],
   "source": []
  }
 ],
 "metadata": {
  "kernelspec": {
   "display_name": "base",
   "language": "python",
   "name": "python3"
  },
  "language_info": {
   "codemirror_mode": {
    "name": "ipython",
    "version": 3
   },
   "file_extension": ".py",
   "mimetype": "text/x-python",
   "name": "python",
   "nbconvert_exporter": "python",
   "pygments_lexer": "ipython3",
   "version": "3.11.7"
  }
 },
 "nbformat": 4,
 "nbformat_minor": 2
}
