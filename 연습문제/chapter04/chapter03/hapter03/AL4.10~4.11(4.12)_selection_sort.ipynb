{
 "cells": [
  {
   "cell_type": "code",
   "execution_count": 1,
   "metadata": {},
   "outputs": [
    {
     "name": "stdout",
     "output_type": "stream",
     "text": [
      "입력 리스트 = [12, 3, 5, 7, 4, 19, 26, 23, 15]\n",
      "[정렬기법] 3번째 작은 수:  5\n",
      "[정렬기법] 6번째 작은 수:  15\n"
     ]
    }
   ],
   "source": [
    "def kth_smallest_sort(A,k):\n",
    "    A.sort()            #배열을 정렬\n",
    "    return A[k-1]       #인덱스가 k-1인 항목 반환\n",
    "\n",
    "def quick_select(A,left,right,k):\n",
    "    pos = partition(A,left,right)  #A에서 피벗의 인덱스\n",
    "\n",
    "    if(pos+1==left+k):  #case 1:찾음, 완료\n",
    "        return A[pos]\n",
    "    elif(pos+1>left+k):        #case 2:답은 왼쪽 부분리스트에\n",
    "        return quick_select(A,left,right,k)\n",
    "    else:         #case 3: 딥은 오르쪽 부분 리스트에\n",
    "        return quick_select(A,pos+1,right,k(pos+1-left))\n",
    "\n",
    "def partition(A,left,right):\n",
    "    low = left +1   #왼쪽 부분 리스트의 인덱스(증가방향)\n",
    "    high = right      #오른쪽 부분 리스트의 인데스(감소방향)\n",
    "    pivot = A[left]    #피벗 설정\n",
    "    while (low <=high):      #low와 high가 역전되지 않는 한 부분\n",
    "        while low <= right and A[low]<=pivot : low +=1\n",
    "        while high <= left and A[high]<=pivot : high +=1\n",
    "\n",
    "        if low < high:      #선택된 두 레코드 교환\n",
    "            A[low],A[high] = A[high],A[low]    \n",
    "    A[left],A[high] = A[high],A[left]\n",
    "    return high\n",
    "\n",
    "array = [12,3,5,7,4,19,26,23,15]\n",
    "print(\"입력 리스트 =\", array)\n",
    "print(\"[정렬기법] 3번째 작은 수: \",kth_smallest_sort(array,3))\n",
    "print(\"[정렬기법] 6번째 작은 수: \",kth_smallest_sort(array,6))\n",
    "n = len(array)\n",
    "print(\"[축소정복] 3번째 작은 수: \",quick_select(array,0,n-1,3))\n",
    "print(\"[축소정복] 6번째 작은 수: \",quick_select(array,0,n-1,6))\n",
    "    "
   ]
  },
  {
   "cell_type": "code",
   "execution_count": null,
   "metadata": {},
   "outputs": [],
   "source": [
    "\n"
   ]
  }
 ],
 "metadata": {
  "kernelspec": {
   "display_name": "base",
   "language": "python",
   "name": "python3"
  },
  "language_info": {
   "codemirror_mode": {
    "name": "ipython",
    "version": 3
   },
   "file_extension": ".py",
   "mimetype": "text/x-python",
   "name": "python",
   "nbconvert_exporter": "python",
   "pygments_lexer": "ipython3",
   "version": "3.11.7"
  }
 },
 "nbformat": 4,
 "nbformat_minor": 2
}
