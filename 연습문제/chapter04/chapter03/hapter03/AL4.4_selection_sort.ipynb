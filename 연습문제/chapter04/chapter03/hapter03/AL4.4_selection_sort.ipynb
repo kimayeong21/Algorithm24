{
 "cells": [
  {
   "cell_type": "markdown",
   "metadata": {},
   "source": [
    "#####    알고리즘 4.4 위상 정렬(축소 정복 기법)\n",
    "#####    알고리즘 설명: \n",
    "######    방향 그래프에서 진입차수가 0인 정점(선수과목이 없이 바로 수강할 수 있는 과목)중에서 하나를 임의로 선택한다. \n",
    "######    선택된 정점을 삭제한다. 정점이 삭제되므로 이 정점에서 진출하는 모든 간선들도 삭제된다.(이미 수강했으므로), 이때 간선이 삭제되므로 삭제되는 간선과 연결된 이웃 정점들의 진입차수는 갱신되어야 한다.이 과정을 모든 정점이 삭제될 때까지 반복한다. 정점이 삭제되는 순서가 위상 순서이다.\n",
    "#####    손으로 푼 예제 :\n",
    "\n",
    "def topological_sort(graph):\n",
    "\n",
    "      inDeg = {}\n",
    "      for v in graph:\n",
    "         inDeg[v] = 0\n",
    "      for v in graph:\n",
    "          for u in graph[v]:\n",
    "             inDeg[u]+=1\n",
    "\n",
    "    vlist = []\n",
    "    for v in graph:\n",
    "        if inDeg[v]==0:\n",
    "            vlist.append(v)\n",
    "    while vlist:\n",
    "        v= vlist.pop()\n",
    "        print(v, end=\" \")\n",
    "\n",
    "        for u in graph[v]:\n",
    "            inDeg[u] -=1\n",
    "            if inDeg[u] ==0:\n",
    "                vlist.append(u)\n",
    "#####    코드 개요(입력 변수, 출력, 함수 설명) \n",
    "#####    입력 변수: { \"A\" : {\"C\", \"D\"}, \"B\" : {\"D\", \"E\"},\"C\" : {\"D\", \"F\"},\"D\" : {\"F\"},\"E\" : {\"F\"}, \"F\" : {}}\n",
    "#####    출력: \n",
    "         topological_sort: \n",
    "         B E A C D F\n",
    "#####   복잡도 분석 : 축소 정복 기법의 알고리즘\n",
    "#####   협력 내용: 효원이가 도와줌"
   ]
  },
  {
   "cell_type": "code",
   "execution_count": 15,
   "metadata": {},
   "outputs": [
    {
     "name": "stdout",
     "output_type": "stream",
     "text": [
      "topological_sort: \n",
      "B E A C D F \n"
     ]
    }
   ],
   "source": [
    "def topological_sort(graph):\n",
    "    inDeg = {}             #{정점:진입차수}저장을 위한 공백 딕셔너리\n",
    "    for v in graph:         # 그래프의 모든 정점에 대해\n",
    "        inDeg[v] = 0        #0으로 초기화, inDeg = {\"A\":0,\"B\":0,.....}\n",
    "    for v in graph:         #모든 정점 v에 대해\n",
    "        for u in graph[v]:        #v에 인접한 모든 정점 u에 대해\n",
    "            inDeg[u]+=1         #진입차수를 1 증가함\n",
    "\n",
    "    vlist = []            #진입차수가 0인 정점 리스트를 만듦\n",
    "    for v in graph:        \n",
    "        if inDeg[v]==0:               #진입차수가 0이면 vlist에 추가\n",
    "            vlist.append(v)\n",
    "    while vlist:              #리스트가 공백이 아닐 때까지\n",
    "        v= vlist.pop()           #진입차수가 0인 정점을 하나 꺼냄\n",
    "        print(v, end=\" \")       #화면 출력\n",
    "\n",
    "        for u in graph[v]:        #연결된 정점의 진입차수 감소\n",
    "            inDeg[u] -=1             #진입차수 감소\n",
    "            if inDeg[u] ==0:          # 진입차수가 0이면 vlist에 추가\n",
    "                vlist.append(u)\n",
    "\n",
    "mygraph = { \"A\" : {\"C\", \"D\"}, \n",
    "            \"B\" : {\"D\", \"E\"},\n",
    "            \"C\" : {\"D\", \"F\"},\n",
    "            \"D\" : {\"F\"},\n",
    "            \"E\" : {\"F\"}, \n",
    "            \"F\" : {}\n",
    "            }\n",
    "print(\"topological_sort: \")\n",
    "topological_sort(mygraph)\n",
    "print( )"
   ]
  }
 ],
 "metadata": {
  "kernelspec": {
   "display_name": "base",
   "language": "python",
   "name": "python3"
  },
  "language_info": {
   "codemirror_mode": {
    "name": "ipython",
    "version": 3
   },
   "file_extension": ".py",
   "mimetype": "text/x-python",
   "name": "python",
   "nbconvert_exporter": "python",
   "pygments_lexer": "ipython3",
   "version": "3.11.7"
  }
 },
 "nbformat": 4,
 "nbformat_minor": 2
}
