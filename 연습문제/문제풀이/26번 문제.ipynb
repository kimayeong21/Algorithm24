{
 "cells": [
  {
   "cell_type": "markdown",
   "metadata": {},
   "source": [
    "##### \n",
    "26. 신장 트리(spanning tree)란 그래프 내의 모든 정점을 포함하는 트리다. 모든 정점들이\n",
    "정점들이 연결 되어 있고 사이클이 없어야 하며, 그래프의 n개의 정점을 정확히(n-1)개의 \n",
    "간선으로 연결해야 한다. 깊이 우선 탐색이나 너비 우선 탐색을 이용하면 신장 트리를 구\n",
    "구할 수 있다. 인접행렬로 표현된그래프에 대해 신장 트리를 구하는 알고리즘을 설계하라.단, 깊이 우선 탐색을 이용하라."
   ]
  },
  {
   "cell_type": "code",
   "execution_count": 1,
   "metadata": {},
   "outputs": [
    {
     "name": "stdout",
     "output_type": "stream",
     "text": [
      "신장 트리의 간선:\n",
      "정점 0과 정점 1 간의 간선\n",
      "정점 0과 정점 2 간의 간선\n",
      "정점 0과 정점 3 간의 간선\n",
      "정점 0과 정점 4 간의 간선\n"
     ]
    }
   ],
   "source": [
    "def dfs(graph, start, visited):\n",
    "    visited[start] = True\n",
    "    for i in range(len(graph)):\n",
    "        if graph[start][i] == 1 and not visited[i]:\n",
    "            dfs(graph, i, visited)\n",
    "\n",
    "def spanning_tree(graph):\n",
    "    num_vertices = len(graph)\n",
    "    visited = [False] * num_vertices\n",
    "\n",
    "    # 시작 정점을 0으로 설정하고 시작\n",
    "    dfs(graph, 0, visited)\n",
    "\n",
    "    # 신장 트리의 간선을 출력\n",
    "    print(\"신장 트리의 간선:\")\n",
    "    for i in range(1, num_vertices):\n",
    "        if visited[i]:\n",
    "            print(\"정점 0과 정점\", i, \"간의 간선\")\n",
    "\n",
    "# 인접 행렬로 표현된 그래프\n",
    "graph = [\n",
    "    [0, 1, 0, 1, 1],\n",
    "    [1, 0, 1, 1, 0],\n",
    "    [0, 1, 0, 0, 1],\n",
    "    [1, 1, 0, 0, 1],\n",
    "    [1, 0, 1, 1, 0]\n",
    "]\n",
    "\n",
    "spanning_tree(graph)\n"
   ]
  }
 ],
 "metadata": {
  "kernelspec": {
   "display_name": "base",
   "language": "python",
   "name": "python3"
  },
  "language_info": {
   "codemirror_mode": {
    "name": "ipython",
    "version": 3
   },
   "file_extension": ".py",
   "mimetype": "text/x-python",
   "name": "python",
   "nbconvert_exporter": "python",
   "pygments_lexer": "ipython3",
   "version": "3.11.7"
  }
 },
 "nbformat": 4,
 "nbformat_minor": 2
}
