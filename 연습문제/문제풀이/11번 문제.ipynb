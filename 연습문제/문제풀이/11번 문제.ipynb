{
 "cells": [
  {
   "cell_type": "markdown",
   "metadata": {},
   "source": [
    "###### 11. 입력으로 주어진 문자열에서 A로 시작하고 B로 끝나는 부분 문자열(substring)의 개수를 구하는 문제를 주어졌다. 예를 들어, 문자열 ADBAAEDBA에는 4개부분 문자열이 있다.ADBAAEDBA, ADBAAEDBA, AEBAAEDBA, ADBAAEDBA이다. \n",
    "##### (1)이 문제에 대한 억지 기법 알고리즘을 설계하고, 시간 복잡도를 계산하라."
   ]
  },
  {
   "cell_type": "code",
   "execution_count": 1,
   "metadata": {},
   "outputs": [
    {
     "name": "stdout",
     "output_type": "stream",
     "text": [
      "4\n"
     ]
    }
   ],
   "source": [
    "def count_substrings(text):\n",
    "    count = 0\n",
    "    n = len(text)\n",
    "    for i in range(n):\n",
    "        if text[i] == 'A':\n",
    "            for j in range(i + 1, n):\n",
    "                if text[j] == 'B':\n",
    "                    count += 1\n",
    "    return count\n",
    "\n",
    "text = \"ADBAAEDBA\"\n",
    "print(count_substrings(text))  \n"
   ]
  },
  {
   "cell_type": "markdown",
   "metadata": {},
   "source": [
    "###### 11. 입력으로 주어진 문자열에서 A로 시작하고 B로 끝나는 부분 문자열(substring)의 개수를 구하는 문제를 주어졌다. 예를 들어, 문자열 ADBAAEDBA에는 4개부분 문자열이 있다.ADBAAEDBA, ADBAAEDBA, AEBAAEDBA, ADBAAEDBA이다. \n",
    "##### (2) 이 문제에 대한 더 효율적인 알고리즘을 찾아보라"
   ]
  },
  {
   "cell_type": "code",
   "execution_count": 1,
   "metadata": {},
   "outputs": [
    {
     "name": "stdout",
     "output_type": "stream",
     "text": [
      "2\n"
     ]
    }
   ],
   "source": [
    "def count_substrings(text):\n",
    "    count = 0\n",
    "    a_indices = [i for i, char in enumerate(text) if char == 'A']\n",
    "    b_indices = [i for i, char in enumerate(text) if char == 'B']\n",
    "    \n",
    "    for a_index in a_indices:\n",
    "        for b_index in b_indices:\n",
    "            if b_index > a_index:\n",
    "                count += 1\n",
    "            else:\n",
    "                break\n",
    "    \n",
    "    return count\n",
    "\n",
    "text = \"ADBAAEDBA\"\n",
    "print(count_substrings(text))  # 출력: 4"
   ]
  },
  {
   "cell_type": "code",
   "execution_count": null,
   "metadata": {},
   "outputs": [],
   "source": []
  }
 ],
 "metadata": {
  "kernelspec": {
   "display_name": "base",
   "language": "python",
   "name": "python3"
  },
  "language_info": {
   "codemirror_mode": {
    "name": "ipython",
    "version": 3
   },
   "file_extension": ".py",
   "mimetype": "text/x-python",
   "name": "python",
   "nbconvert_exporter": "python",
   "pygments_lexer": "ipython3",
   "version": "3.11.7"
  }
 },
 "nbformat": 4,
 "nbformat_minor": 2
}
